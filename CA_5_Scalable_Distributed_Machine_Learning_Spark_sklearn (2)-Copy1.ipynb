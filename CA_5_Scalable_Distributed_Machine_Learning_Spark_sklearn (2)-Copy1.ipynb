{
 "cells": [
  {
   "cell_type": "markdown",
   "metadata": {
    "id": "7So9u809e1n5"
   },
   "source": [
    "*Warning*: Distribution/sharing of this notebook and other lab notebooks on the internet and other sources is strictly prohibited. You should not provide this notebook to anyone else. you should just use it for the purpose of this assessment only.\n",
    "\n",
    "You should attempt and submit your work. you can refer to sources/APIs to complete this taks. Copying from each other even a part or so is strictly prohibited and may result in serious action.\n"
   ]
  },
  {
   "cell_type": "markdown",
   "metadata": {
    "id": "L1Y12dPVqHv4"
   },
   "source": [
    "# Assessment 5 : Big Data Analytics using Machine Learning\n",
    "## Due Feburary 25th, 5pm (Firm)\n",
    "### Total points: 100 ( weighted over 35)\n",
    "\n",
    "This assessmet will enable you achieve essential experience of machine learning using sklearn and scalable approach to machine learning based on park ML! \n",
    "\n",
    "The focus of this assessment is to explore what makes videos popular on various platforms, e.g., Netflix and YouTube. The assessment will focus on YouTube 's data.\n",
    "\n",
    "**PLEASE NOTE** There can be multiple solutions possible for this assessment. various students will end up implementing different solutions. Therefore, there is not a single solution to fit all students."
   ]
  },
  {
   "cell_type": "markdown",
   "metadata": {
    "id": "zsMMQ1RnqoYw"
   },
   "source": [
    "### Required Libraries \n",
    "Setup the libraries using the following cells. You should select Java 8 when prompted."
   ]
  },
  {
   "cell_type": "code",
   "execution_count": null,
   "metadata": {
    "id": "V5Ea650lhvf2"
   },
   "outputs": [],
   "source": [
    "! sudo apt install openjdk-8-jdk\n",
    "! sudo update-alternatives --config java"
   ]
  },
  {
   "cell_type": "code",
   "execution_count": null,
   "metadata": {
    "id": "678WFOguE-CF"
   },
   "outputs": [],
   "source": [
    "!pip3 install pandas==1.0.5"
   ]
  },
  {
   "cell_type": "code",
   "execution_count": 1,
   "metadata": {
    "id": "eAqMbSa7FA6b"
   },
   "outputs": [
    {
     "name": "stdout",
     "output_type": "stream",
     "text": [
      "False\n"
     ]
    }
   ],
   "source": [
    "# if restart of runtime is successful, the execution of this cell should\n",
    "# prints True\n",
    "\n",
    "import pandas as pd\n",
    "print(pd.__version__ == '1.0.5')"
   ]
  },
  {
   "cell_type": "code",
   "execution_count": 2,
   "metadata": {
    "id": "NodzYeBAGpnr"
   },
   "outputs": [],
   "source": [
    "import numpy as np \n",
    "import json\n",
    "import matplotlib\n",
    "import matplotlib.pyplot as plt\n",
    "from matplotlib import cm\n",
    "from datetime import datetime\n",
    "import glob\n",
    "import seaborn as sns\n",
    "import re\n",
    "import os\n",
    "import random"
   ]
  },
  {
   "cell_type": "code",
   "execution_count": null,
   "metadata": {},
   "outputs": [],
   "source": [
    "#pip install --upgrade google-api-python-client"
   ]
  },
  {
   "cell_type": "code",
   "execution_count": null,
   "metadata": {},
   "outputs": [],
   "source": [
    "#pip install google"
   ]
  },
  {
   "cell_type": "code",
   "execution_count": null,
   "metadata": {},
   "outputs": [],
   "source": [
    "pip install google-colab"
   ]
  },
  {
   "cell_type": "code",
   "execution_count": null,
   "metadata": {},
   "outputs": [],
   "source": [
    "pip install pycountry"
   ]
  },
  {
   "cell_type": "code",
   "execution_count": null,
   "metadata": {},
   "outputs": [],
   "source": [
    "import pycountry"
   ]
  },
  {
   "cell_type": "markdown",
   "metadata": {
    "id": "1LUqDAYCa_kN"
   },
   "source": [
    "Import your dataset using the following cells for the Youtube videos"
   ]
  },
  {
   "cell_type": "code",
   "execution_count": null,
   "metadata": {
    "id": "bUWkvS3kHHve"
   },
   "outputs": [],
   "source": [
    "from google.colab import files\n",
    "uploaded = files.upload()\n",
    "\n",
    "!unzip youtube_data.zip"
   ]
  },
  {
   "cell_type": "markdown",
   "metadata": {
    "id": "lzax5Hp70oGW"
   },
   "source": [
    "# Section 5.1. : Machine Learning with Sklearn (45 points)"
   ]
  },
  {
   "cell_type": "markdown",
   "metadata": {
    "id": "Ecg1d6dwais8"
   },
   "source": [
    "## 5.1.1 Data loading and Preprocessing (5 pts)\n",
    "\n",
    "The dataset consists of a daily record of the top trending YouTube videos.\n",
    "\n",
    "To determine the year’s top-trending videos, YouTube uses a combination of factors including measuring users interactions, e.g., number of views, shares, comments and likes. \"Note that they’re not the most-viewed videos overall for the calendar year”. Top performers on the YouTube trending list are music videos (such as the famously viral “[Gangnam Style](https://www.youtube.com/watch?v=9bZkp7q19f0)”), celebrity and/or reality TV performances, and the random dude-with-a-camera viral videos that YouTube is well-known for.\n",
    "\n",
    "This dataset includes several months (and counting) of data on daily trending YouTube videos. Data is included for numerous countries, with up to 200 listed trending videos per day.\n",
    "\n",
    "Each region’s data is in a separate file. Data includes:\n",
    "\n",
    "*   Video Title\n",
    "*   Channel title\n",
    "*   Publish time\n",
    "*   Tags\n",
    "*   Views\n",
    "*   Likes\n",
    "*   Dislikes\n",
    "*   Description\n",
    "*   Comment count\n",
    "\n",
    "The data also includes a category\\_id field, which varies between regions. To retrieve the categories for a specific video, find it in the associated JSON. One such file is included for each of the five regions in the dataset.\n",
    "\n",
    "For more information on specific columns in the dataset refer to the column metadata.\n",
    "\n"
   ]
  },
  {
   "cell_type": "markdown",
   "metadata": {
    "id": "XCNsu176IR5x"
   },
   "source": [
    "#### 5.1.1.1: Combining Multiple CSV's. (2 pts.)\n",
    "\n",
    "There are multiple csv files in the dataset, each corresponding to a specific country. As a first step you need to read them and combine these csv files into a single dataframe. Use 'video_id' as your index.\n",
    "\n",
    "While combining them, you also need to create a column for \"country\" and fill it in the final dataframe. The country name can be extracted using the filename itself.\n",
    "\n",
    "Name your dataframe \"combined_data\"."
   ]
  },
  {
   "cell_type": "code",
   "execution_count": 3,
   "metadata": {
    "id": "V_tuqP5Wahf_"
   },
   "outputs": [
    {
     "data": {
      "text/html": [
       "<div>\n",
       "<style scoped>\n",
       "    .dataframe tbody tr th:only-of-type {\n",
       "        vertical-align: middle;\n",
       "    }\n",
       "\n",
       "    .dataframe tbody tr th {\n",
       "        vertical-align: top;\n",
       "    }\n",
       "\n",
       "    .dataframe thead th {\n",
       "        text-align: right;\n",
       "    }\n",
       "</style>\n",
       "<table border=\"1\" class=\"dataframe\">\n",
       "  <thead>\n",
       "    <tr style=\"text-align: right;\">\n",
       "      <th></th>\n",
       "      <th>trending_date</th>\n",
       "      <th>title</th>\n",
       "      <th>channel_title</th>\n",
       "      <th>category_id</th>\n",
       "      <th>publish_time</th>\n",
       "      <th>tags</th>\n",
       "      <th>views</th>\n",
       "      <th>likes</th>\n",
       "      <th>dislikes</th>\n",
       "      <th>comment_count</th>\n",
       "      <th>thumbnail_link</th>\n",
       "      <th>comments_disabled</th>\n",
       "      <th>ratings_disabled</th>\n",
       "      <th>video_error_or_removed</th>\n",
       "      <th>description</th>\n",
       "      <th>country</th>\n",
       "    </tr>\n",
       "    <tr>\n",
       "      <th>video_id</th>\n",
       "      <th></th>\n",
       "      <th></th>\n",
       "      <th></th>\n",
       "      <th></th>\n",
       "      <th></th>\n",
       "      <th></th>\n",
       "      <th></th>\n",
       "      <th></th>\n",
       "      <th></th>\n",
       "      <th></th>\n",
       "      <th></th>\n",
       "      <th></th>\n",
       "      <th></th>\n",
       "      <th></th>\n",
       "      <th></th>\n",
       "      <th></th>\n",
       "    </tr>\n",
       "  </thead>\n",
       "  <tbody>\n",
       "    <tr>\n",
       "      <th>kzwfHumJyYc</th>\n",
       "      <td>17.14.11</td>\n",
       "      <td>Sharry Mann: Cute Munda ( Song Teaser) | Parmi...</td>\n",
       "      <td>Lokdhun Punjabi</td>\n",
       "      <td>1</td>\n",
       "      <td>2017-11-12T12:20:39.000Z</td>\n",
       "      <td>sharry mann|\"sharry mann new song\"|\"sharry man...</td>\n",
       "      <td>1096327</td>\n",
       "      <td>33966</td>\n",
       "      <td>798</td>\n",
       "      <td>882</td>\n",
       "      <td>https://i.ytimg.com/vi/kzwfHumJyYc/default.jpg</td>\n",
       "      <td>False</td>\n",
       "      <td>False</td>\n",
       "      <td>False</td>\n",
       "      <td>Presenting Sharry Mann latest Punjabi Song  Cu...</td>\n",
       "      <td>IN</td>\n",
       "    </tr>\n",
       "    <tr>\n",
       "      <th>zUZ1z7FwLc8</th>\n",
       "      <td>17.14.11</td>\n",
       "      <td>पीरियड्स के समय, पेट पर पति करता ऐसा, देखकर दं...</td>\n",
       "      <td>HJ NEWS</td>\n",
       "      <td>25</td>\n",
       "      <td>2017-11-13T05:43:56.000Z</td>\n",
       "      <td>पीरियड्स के समय|\"पेट पर पति करता ऐसा\"|\"देखकर द...</td>\n",
       "      <td>590101</td>\n",
       "      <td>735</td>\n",
       "      <td>904</td>\n",
       "      <td>0</td>\n",
       "      <td>https://i.ytimg.com/vi/zUZ1z7FwLc8/default.jpg</td>\n",
       "      <td>True</td>\n",
       "      <td>False</td>\n",
       "      <td>False</td>\n",
       "      <td>पीरियड्स के समय, पेट पर पति करता ऐसा, देखकर दं...</td>\n",
       "      <td>IN</td>\n",
       "    </tr>\n",
       "    <tr>\n",
       "      <th>10L1hZ9qa58</th>\n",
       "      <td>17.14.11</td>\n",
       "      <td>Stylish Star Allu Arjun @ ChaySam Wedding Rece...</td>\n",
       "      <td>TFPC</td>\n",
       "      <td>24</td>\n",
       "      <td>2017-11-12T15:48:08.000Z</td>\n",
       "      <td>Stylish Star Allu Arjun @ ChaySam Wedding Rece...</td>\n",
       "      <td>473988</td>\n",
       "      <td>2011</td>\n",
       "      <td>243</td>\n",
       "      <td>149</td>\n",
       "      <td>https://i.ytimg.com/vi/10L1hZ9qa58/default.jpg</td>\n",
       "      <td>False</td>\n",
       "      <td>False</td>\n",
       "      <td>False</td>\n",
       "      <td>Watch Stylish Star Allu Arjun @ ChaySam Weddin...</td>\n",
       "      <td>IN</td>\n",
       "    </tr>\n",
       "    <tr>\n",
       "      <th>N1vE8iiEg64</th>\n",
       "      <td>17.14.11</td>\n",
       "      <td>Eruma Saani | Tamil vs English</td>\n",
       "      <td>Eruma Saani</td>\n",
       "      <td>23</td>\n",
       "      <td>2017-11-12T07:08:48.000Z</td>\n",
       "      <td>Eruma Saani|\"Tamil Comedy Videos\"|\"Films\"|\"Mov...</td>\n",
       "      <td>1242680</td>\n",
       "      <td>70353</td>\n",
       "      <td>1624</td>\n",
       "      <td>2684</td>\n",
       "      <td>https://i.ytimg.com/vi/N1vE8iiEg64/default.jpg</td>\n",
       "      <td>False</td>\n",
       "      <td>False</td>\n",
       "      <td>False</td>\n",
       "      <td>This video showcases the difference between pe...</td>\n",
       "      <td>IN</td>\n",
       "    </tr>\n",
       "    <tr>\n",
       "      <th>kJzGH0PVQHQ</th>\n",
       "      <td>17.14.11</td>\n",
       "      <td>why Samantha became EMOTIONAL @ Samantha naga ...</td>\n",
       "      <td>Filmylooks</td>\n",
       "      <td>24</td>\n",
       "      <td>2017-11-13T01:14:16.000Z</td>\n",
       "      <td>Filmylooks|\"latest news\"|\"telugu movies\"|\"telu...</td>\n",
       "      <td>464015</td>\n",
       "      <td>492</td>\n",
       "      <td>293</td>\n",
       "      <td>66</td>\n",
       "      <td>https://i.ytimg.com/vi/kJzGH0PVQHQ/default.jpg</td>\n",
       "      <td>False</td>\n",
       "      <td>False</td>\n",
       "      <td>False</td>\n",
       "      <td>why Samantha became EMOTIONAL @ Samantha naga ...</td>\n",
       "      <td>IN</td>\n",
       "    </tr>\n",
       "  </tbody>\n",
       "</table>\n",
       "</div>"
      ],
      "text/plain": [
       "            trending_date                                              title  \\\n",
       "video_id                                                                       \n",
       "kzwfHumJyYc      17.14.11  Sharry Mann: Cute Munda ( Song Teaser) | Parmi...   \n",
       "zUZ1z7FwLc8      17.14.11  पीरियड्स के समय, पेट पर पति करता ऐसा, देखकर दं...   \n",
       "10L1hZ9qa58      17.14.11  Stylish Star Allu Arjun @ ChaySam Wedding Rece...   \n",
       "N1vE8iiEg64      17.14.11                     Eruma Saani | Tamil vs English   \n",
       "kJzGH0PVQHQ      17.14.11  why Samantha became EMOTIONAL @ Samantha naga ...   \n",
       "\n",
       "               channel_title  category_id              publish_time  \\\n",
       "video_id                                                              \n",
       "kzwfHumJyYc  Lokdhun Punjabi            1  2017-11-12T12:20:39.000Z   \n",
       "zUZ1z7FwLc8          HJ NEWS           25  2017-11-13T05:43:56.000Z   \n",
       "10L1hZ9qa58             TFPC           24  2017-11-12T15:48:08.000Z   \n",
       "N1vE8iiEg64      Eruma Saani           23  2017-11-12T07:08:48.000Z   \n",
       "kJzGH0PVQHQ       Filmylooks           24  2017-11-13T01:14:16.000Z   \n",
       "\n",
       "                                                          tags    views  \\\n",
       "video_id                                                                  \n",
       "kzwfHumJyYc  sharry mann|\"sharry mann new song\"|\"sharry man...  1096327   \n",
       "zUZ1z7FwLc8  पीरियड्स के समय|\"पेट पर पति करता ऐसा\"|\"देखकर द...   590101   \n",
       "10L1hZ9qa58  Stylish Star Allu Arjun @ ChaySam Wedding Rece...   473988   \n",
       "N1vE8iiEg64  Eruma Saani|\"Tamil Comedy Videos\"|\"Films\"|\"Mov...  1242680   \n",
       "kJzGH0PVQHQ  Filmylooks|\"latest news\"|\"telugu movies\"|\"telu...   464015   \n",
       "\n",
       "             likes  dislikes  comment_count  \\\n",
       "video_id                                      \n",
       "kzwfHumJyYc  33966       798            882   \n",
       "zUZ1z7FwLc8    735       904              0   \n",
       "10L1hZ9qa58   2011       243            149   \n",
       "N1vE8iiEg64  70353      1624           2684   \n",
       "kJzGH0PVQHQ    492       293             66   \n",
       "\n",
       "                                             thumbnail_link  \\\n",
       "video_id                                                      \n",
       "kzwfHumJyYc  https://i.ytimg.com/vi/kzwfHumJyYc/default.jpg   \n",
       "zUZ1z7FwLc8  https://i.ytimg.com/vi/zUZ1z7FwLc8/default.jpg   \n",
       "10L1hZ9qa58  https://i.ytimg.com/vi/10L1hZ9qa58/default.jpg   \n",
       "N1vE8iiEg64  https://i.ytimg.com/vi/N1vE8iiEg64/default.jpg   \n",
       "kJzGH0PVQHQ  https://i.ytimg.com/vi/kJzGH0PVQHQ/default.jpg   \n",
       "\n",
       "             comments_disabled  ratings_disabled  video_error_or_removed  \\\n",
       "video_id                                                                   \n",
       "kzwfHumJyYc              False             False                   False   \n",
       "zUZ1z7FwLc8               True             False                   False   \n",
       "10L1hZ9qa58              False             False                   False   \n",
       "N1vE8iiEg64              False             False                   False   \n",
       "kJzGH0PVQHQ              False             False                   False   \n",
       "\n",
       "                                                   description country  \n",
       "video_id                                                                \n",
       "kzwfHumJyYc  Presenting Sharry Mann latest Punjabi Song  Cu...      IN  \n",
       "zUZ1z7FwLc8  पीरियड्स के समय, पेट पर पति करता ऐसा, देखकर दं...      IN  \n",
       "10L1hZ9qa58  Watch Stylish Star Allu Arjun @ ChaySam Weddin...      IN  \n",
       "N1vE8iiEg64  This video showcases the difference between pe...      IN  \n",
       "kJzGH0PVQHQ  why Samantha became EMOTIONAL @ Samantha naga ...      IN  "
      ]
     },
     "execution_count": 3,
     "metadata": {},
     "output_type": "execute_result"
    }
   ],
   "source": [
    "# Import all the csv files\n",
    "files = [i for i in glob.glob('youtube_data/*.csv'.format('csv'))]\n",
    "sorted(files)\n",
    "\n",
    "# Task: Merge all dataframes to single dataframe \"combined_data\" and add a 'country' column. \n",
    "all_dataframes = list()\n",
    "for csv in files:\n",
    "    df = pd.read_csv(csv)\n",
    "    df['country'] = csv.replace('youtube_data','').replace('videos.csv','').replace('/','')\n",
    "    all_dataframes.append(df)\n",
    "\n",
    "#print(len(files)) \n",
    "#print(len(all_dataframes))    \n",
    "#for df in all_dataframes:\n",
    "#    print(df.head(5))\n",
    "\n",
    "combined_data = pd.concat(all_dataframes)\n",
    "combined_data.set_index('video_id',inplace=True)\n",
    "combined_data.head(5)"
   ]
  },
  {
   "cell_type": "markdown",
   "metadata": {
    "id": "PdfKNvDqILsh"
   },
   "source": [
    "#### 5.1.1.2: Map category Id's to categories (2 pts)\n",
    "\n",
    "Read the category_id.json file and map the category_id's in the dataframe to the category name.\n",
    "\n",
    "Use json.load to read in the data in the json file as a python dictionary and then map the category id given in the dataframe to category name from the json file. (Hint: the US json is likely the most comprehensive reference)\n",
    "\n",
    "\n"
   ]
  },
  {
   "cell_type": "code",
   "execution_count": 49,
   "metadata": {
    "id": "xDyMBIoRGdi0"
   },
   "outputs": [
    {
     "data": {
      "text/html": [
       "<div>\n",
       "<style scoped>\n",
       "    .dataframe tbody tr th:only-of-type {\n",
       "        vertical-align: middle;\n",
       "    }\n",
       "\n",
       "    .dataframe tbody tr th {\n",
       "        vertical-align: top;\n",
       "    }\n",
       "\n",
       "    .dataframe thead th {\n",
       "        text-align: right;\n",
       "    }\n",
       "</style>\n",
       "<table border=\"1\" class=\"dataframe\">\n",
       "  <thead>\n",
       "    <tr style=\"text-align: right;\">\n",
       "      <th></th>\n",
       "      <th>id</th>\n",
       "      <th>snippet</th>\n",
       "    </tr>\n",
       "  </thead>\n",
       "  <tbody>\n",
       "    <tr>\n",
       "      <th>1</th>\n",
       "      <td>1</td>\n",
       "      <td>Film &amp; Animation</td>\n",
       "    </tr>\n",
       "    <tr>\n",
       "      <th>2</th>\n",
       "      <td>2</td>\n",
       "      <td>Autos &amp; Vehicles</td>\n",
       "    </tr>\n",
       "    <tr>\n",
       "      <th>3</th>\n",
       "      <td>10</td>\n",
       "      <td>Music</td>\n",
       "    </tr>\n",
       "    <tr>\n",
       "      <th>4</th>\n",
       "      <td>15</td>\n",
       "      <td>Pets &amp; Animals</td>\n",
       "    </tr>\n",
       "    <tr>\n",
       "      <th>5</th>\n",
       "      <td>17</td>\n",
       "      <td>Sports</td>\n",
       "    </tr>\n",
       "  </tbody>\n",
       "</table>\n",
       "</div>"
      ],
      "text/plain": [
       "   id           snippet\n",
       "1   1  Film & Animation\n",
       "2   2  Autos & Vehicles\n",
       "3  10             Music\n",
       "4  15    Pets & Animals\n",
       "5  17            Sports"
      ]
     },
     "execution_count": 49,
     "metadata": {},
     "output_type": "execute_result"
    }
   ],
   "source": [
    "combined_data['category_id'] = combined_data['category_id'].astype(str)\n",
    "\n",
    "files = [i for i in glob.glob('youtube_data/*category_id.json'.format('json'))]\n",
    "sorted(files)\n",
    "\n",
    "json_dataframe = pd.DataFrame(columns = [\"id\", \"snippet\"], index=[\"id\"])\n",
    "\n",
    "for jsonfile in files:\n",
    "    jsonDict = {}\n",
    "    with open(jsonfile) as file:\n",
    "          jsonDict = json.load(file)\n",
    "    country = jsonfile.replace('youtube_data','').replace('category_id.json','').replace('/','').replace('_','')\n",
    "    for obj in jsonDict['items']:\n",
    "        json_dataframe.loc[len(json_dataframe.index)] = [obj['id'], obj['snippet']['title']]  \n",
    "\n",
    "#category_series = pd.Series([] ,dtype=str) \n",
    "json_dataframe.dropna(inplace=True)\n",
    "json_dataframe.drop_duplicates(keep='first',inplace=True)\n",
    "#json_dataframe.set_index(['id'],inplace=True)\n",
    "json_dataframe.id.astype(int)\n",
    "json_dataframe.head(5)"
   ]
  },
  {
   "cell_type": "code",
   "execution_count": 57,
   "metadata": {},
   "outputs": [
    {
     "data": {
      "text/plain": [
       "video_id\n",
       "kzwfHumJyYc    Film & Animation\n",
       "zUZ1z7FwLc8     News & Politics\n",
       "10L1hZ9qa58       Entertainment\n",
       "N1vE8iiEg64              Comedy\n",
       "kJzGH0PVQHQ       Entertainment\n",
       "                     ...       \n",
       "BZt0qjTWNhw      Pets & Animals\n",
       "1h7KV2sjUWY      People & Blogs\n",
       "D6Oy4LfoqsU       Entertainment\n",
       "oV0zkMe1K8s    Film & Animation\n",
       "ooyjaVdt-jA              Gaming\n",
       "Name: category, Length: 159906, dtype: object"
      ]
     },
     "execution_count": 57,
     "metadata": {},
     "output_type": "execute_result"
    }
   ],
   "source": [
    "def lookup_catergory(x):\n",
    "    value = json_dataframe[json_dataframe['id'] == x]['snippet']\n",
    "    return value.iloc[0] if len(value) == 1 else x\n",
    "combined_data['category'] = combined_data['category_id'].apply(lookup_catergory)\n",
    "combined_data['category']"
   ]
  },
  {
   "cell_type": "code",
   "execution_count": 5,
   "metadata": {},
   "outputs": [
    {
     "data": {
      "text/plain": [
       "trending_date                0\n",
       "title                        0\n",
       "channel_title                0\n",
       "category_id                  0\n",
       "publish_time                 0\n",
       "tags                         0\n",
       "views                        0\n",
       "likes                        0\n",
       "dislikes                     0\n",
       "comment_count                0\n",
       "thumbnail_link               0\n",
       "comments_disabled            0\n",
       "ratings_disabled             0\n",
       "video_error_or_removed       0\n",
       "description               5339\n",
       "country                      0\n",
       "dtype: int64"
      ]
     },
     "execution_count": 5,
     "metadata": {},
     "output_type": "execute_result"
    }
   ],
   "source": [
    "combined_data.isnull().sum()"
   ]
  },
  {
   "cell_type": "markdown",
   "metadata": {
    "id": "LEfiMpUULmT4"
   },
   "source": [
    "#### 5.1.1.3: Fix datetime format and remove rows with NA's (1 pt)\n",
    "\n",
    "The 'publish_time' and 'trending_date' features are not in a unix datetime format, so use pandas to_datetime() to convert it into the right format.\n",
    "\n",
    "After that is done remove all the rows which have NA's in them."
   ]
  },
  {
   "cell_type": "code",
   "execution_count": 4,
   "metadata": {
    "id": "EMqgqJv5MYWG"
   },
   "outputs": [
    {
     "name": "stdout",
     "output_type": "stream",
     "text": [
      "trending_date                0\n",
      "title                        0\n",
      "channel_title                0\n",
      "category_id                  0\n",
      "publish_time                 0\n",
      "tags                         0\n",
      "views                        0\n",
      "likes                        0\n",
      "dislikes                     0\n",
      "comment_count                0\n",
      "thumbnail_link               0\n",
      "comments_disabled            0\n",
      "ratings_disabled             0\n",
      "video_error_or_removed       0\n",
      "description               5339\n",
      "country                      0\n",
      "dtype: int64\n"
     ]
    },
    {
     "data": {
      "text/html": [
       "<div>\n",
       "<style scoped>\n",
       "    .dataframe tbody tr th:only-of-type {\n",
       "        vertical-align: middle;\n",
       "    }\n",
       "\n",
       "    .dataframe tbody tr th {\n",
       "        vertical-align: top;\n",
       "    }\n",
       "\n",
       "    .dataframe thead th {\n",
       "        text-align: right;\n",
       "    }\n",
       "</style>\n",
       "<table border=\"1\" class=\"dataframe\">\n",
       "  <thead>\n",
       "    <tr style=\"text-align: right;\">\n",
       "      <th></th>\n",
       "      <th>trending_date</th>\n",
       "      <th>title</th>\n",
       "      <th>channel_title</th>\n",
       "      <th>category_id</th>\n",
       "      <th>publish_time</th>\n",
       "      <th>tags</th>\n",
       "      <th>views</th>\n",
       "      <th>likes</th>\n",
       "      <th>dislikes</th>\n",
       "      <th>comment_count</th>\n",
       "      <th>thumbnail_link</th>\n",
       "      <th>comments_disabled</th>\n",
       "      <th>ratings_disabled</th>\n",
       "      <th>video_error_or_removed</th>\n",
       "      <th>description</th>\n",
       "      <th>country</th>\n",
       "    </tr>\n",
       "    <tr>\n",
       "      <th>video_id</th>\n",
       "      <th></th>\n",
       "      <th></th>\n",
       "      <th></th>\n",
       "      <th></th>\n",
       "      <th></th>\n",
       "      <th></th>\n",
       "      <th></th>\n",
       "      <th></th>\n",
       "      <th></th>\n",
       "      <th></th>\n",
       "      <th></th>\n",
       "      <th></th>\n",
       "      <th></th>\n",
       "      <th></th>\n",
       "      <th></th>\n",
       "      <th></th>\n",
       "    </tr>\n",
       "  </thead>\n",
       "  <tbody>\n",
       "    <tr>\n",
       "      <th>kzwfHumJyYc</th>\n",
       "      <td>2017-11-14</td>\n",
       "      <td>Sharry Mann: Cute Munda ( Song Teaser) | Parmi...</td>\n",
       "      <td>Lokdhun Punjabi</td>\n",
       "      <td>1</td>\n",
       "      <td>2017-11-12 12:20:39+00:00</td>\n",
       "      <td>sharry mann|\"sharry mann new song\"|\"sharry man...</td>\n",
       "      <td>1096327</td>\n",
       "      <td>33966</td>\n",
       "      <td>798</td>\n",
       "      <td>882</td>\n",
       "      <td>https://i.ytimg.com/vi/kzwfHumJyYc/default.jpg</td>\n",
       "      <td>False</td>\n",
       "      <td>False</td>\n",
       "      <td>False</td>\n",
       "      <td>Presenting Sharry Mann latest Punjabi Song  Cu...</td>\n",
       "      <td>IN</td>\n",
       "    </tr>\n",
       "    <tr>\n",
       "      <th>zUZ1z7FwLc8</th>\n",
       "      <td>2017-11-14</td>\n",
       "      <td>पीरियड्स के समय, पेट पर पति करता ऐसा, देखकर दं...</td>\n",
       "      <td>HJ NEWS</td>\n",
       "      <td>25</td>\n",
       "      <td>2017-11-13 05:43:56+00:00</td>\n",
       "      <td>पीरियड्स के समय|\"पेट पर पति करता ऐसा\"|\"देखकर द...</td>\n",
       "      <td>590101</td>\n",
       "      <td>735</td>\n",
       "      <td>904</td>\n",
       "      <td>0</td>\n",
       "      <td>https://i.ytimg.com/vi/zUZ1z7FwLc8/default.jpg</td>\n",
       "      <td>True</td>\n",
       "      <td>False</td>\n",
       "      <td>False</td>\n",
       "      <td>पीरियड्स के समय, पेट पर पति करता ऐसा, देखकर दं...</td>\n",
       "      <td>IN</td>\n",
       "    </tr>\n",
       "    <tr>\n",
       "      <th>10L1hZ9qa58</th>\n",
       "      <td>2017-11-14</td>\n",
       "      <td>Stylish Star Allu Arjun @ ChaySam Wedding Rece...</td>\n",
       "      <td>TFPC</td>\n",
       "      <td>24</td>\n",
       "      <td>2017-11-12 15:48:08+00:00</td>\n",
       "      <td>Stylish Star Allu Arjun @ ChaySam Wedding Rece...</td>\n",
       "      <td>473988</td>\n",
       "      <td>2011</td>\n",
       "      <td>243</td>\n",
       "      <td>149</td>\n",
       "      <td>https://i.ytimg.com/vi/10L1hZ9qa58/default.jpg</td>\n",
       "      <td>False</td>\n",
       "      <td>False</td>\n",
       "      <td>False</td>\n",
       "      <td>Watch Stylish Star Allu Arjun @ ChaySam Weddin...</td>\n",
       "      <td>IN</td>\n",
       "    </tr>\n",
       "    <tr>\n",
       "      <th>N1vE8iiEg64</th>\n",
       "      <td>2017-11-14</td>\n",
       "      <td>Eruma Saani | Tamil vs English</td>\n",
       "      <td>Eruma Saani</td>\n",
       "      <td>23</td>\n",
       "      <td>2017-11-12 07:08:48+00:00</td>\n",
       "      <td>Eruma Saani|\"Tamil Comedy Videos\"|\"Films\"|\"Mov...</td>\n",
       "      <td>1242680</td>\n",
       "      <td>70353</td>\n",
       "      <td>1624</td>\n",
       "      <td>2684</td>\n",
       "      <td>https://i.ytimg.com/vi/N1vE8iiEg64/default.jpg</td>\n",
       "      <td>False</td>\n",
       "      <td>False</td>\n",
       "      <td>False</td>\n",
       "      <td>This video showcases the difference between pe...</td>\n",
       "      <td>IN</td>\n",
       "    </tr>\n",
       "    <tr>\n",
       "      <th>kJzGH0PVQHQ</th>\n",
       "      <td>2017-11-14</td>\n",
       "      <td>why Samantha became EMOTIONAL @ Samantha naga ...</td>\n",
       "      <td>Filmylooks</td>\n",
       "      <td>24</td>\n",
       "      <td>2017-11-13 01:14:16+00:00</td>\n",
       "      <td>Filmylooks|\"latest news\"|\"telugu movies\"|\"telu...</td>\n",
       "      <td>464015</td>\n",
       "      <td>492</td>\n",
       "      <td>293</td>\n",
       "      <td>66</td>\n",
       "      <td>https://i.ytimg.com/vi/kJzGH0PVQHQ/default.jpg</td>\n",
       "      <td>False</td>\n",
       "      <td>False</td>\n",
       "      <td>False</td>\n",
       "      <td>why Samantha became EMOTIONAL @ Samantha naga ...</td>\n",
       "      <td>IN</td>\n",
       "    </tr>\n",
       "  </tbody>\n",
       "</table>\n",
       "</div>"
      ],
      "text/plain": [
       "            trending_date                                              title  \\\n",
       "video_id                                                                       \n",
       "kzwfHumJyYc    2017-11-14  Sharry Mann: Cute Munda ( Song Teaser) | Parmi...   \n",
       "zUZ1z7FwLc8    2017-11-14  पीरियड्स के समय, पेट पर पति करता ऐसा, देखकर दं...   \n",
       "10L1hZ9qa58    2017-11-14  Stylish Star Allu Arjun @ ChaySam Wedding Rece...   \n",
       "N1vE8iiEg64    2017-11-14                     Eruma Saani | Tamil vs English   \n",
       "kJzGH0PVQHQ    2017-11-14  why Samantha became EMOTIONAL @ Samantha naga ...   \n",
       "\n",
       "               channel_title  category_id              publish_time  \\\n",
       "video_id                                                              \n",
       "kzwfHumJyYc  Lokdhun Punjabi            1 2017-11-12 12:20:39+00:00   \n",
       "zUZ1z7FwLc8          HJ NEWS           25 2017-11-13 05:43:56+00:00   \n",
       "10L1hZ9qa58             TFPC           24 2017-11-12 15:48:08+00:00   \n",
       "N1vE8iiEg64      Eruma Saani           23 2017-11-12 07:08:48+00:00   \n",
       "kJzGH0PVQHQ       Filmylooks           24 2017-11-13 01:14:16+00:00   \n",
       "\n",
       "                                                          tags    views  \\\n",
       "video_id                                                                  \n",
       "kzwfHumJyYc  sharry mann|\"sharry mann new song\"|\"sharry man...  1096327   \n",
       "zUZ1z7FwLc8  पीरियड्स के समय|\"पेट पर पति करता ऐसा\"|\"देखकर द...   590101   \n",
       "10L1hZ9qa58  Stylish Star Allu Arjun @ ChaySam Wedding Rece...   473988   \n",
       "N1vE8iiEg64  Eruma Saani|\"Tamil Comedy Videos\"|\"Films\"|\"Mov...  1242680   \n",
       "kJzGH0PVQHQ  Filmylooks|\"latest news\"|\"telugu movies\"|\"telu...   464015   \n",
       "\n",
       "             likes  dislikes  comment_count  \\\n",
       "video_id                                      \n",
       "kzwfHumJyYc  33966       798            882   \n",
       "zUZ1z7FwLc8    735       904              0   \n",
       "10L1hZ9qa58   2011       243            149   \n",
       "N1vE8iiEg64  70353      1624           2684   \n",
       "kJzGH0PVQHQ    492       293             66   \n",
       "\n",
       "                                             thumbnail_link  \\\n",
       "video_id                                                      \n",
       "kzwfHumJyYc  https://i.ytimg.com/vi/kzwfHumJyYc/default.jpg   \n",
       "zUZ1z7FwLc8  https://i.ytimg.com/vi/zUZ1z7FwLc8/default.jpg   \n",
       "10L1hZ9qa58  https://i.ytimg.com/vi/10L1hZ9qa58/default.jpg   \n",
       "N1vE8iiEg64  https://i.ytimg.com/vi/N1vE8iiEg64/default.jpg   \n",
       "kJzGH0PVQHQ  https://i.ytimg.com/vi/kJzGH0PVQHQ/default.jpg   \n",
       "\n",
       "             comments_disabled  ratings_disabled  video_error_or_removed  \\\n",
       "video_id                                                                   \n",
       "kzwfHumJyYc              False             False                   False   \n",
       "zUZ1z7FwLc8               True             False                   False   \n",
       "10L1hZ9qa58              False             False                   False   \n",
       "N1vE8iiEg64              False             False                   False   \n",
       "kJzGH0PVQHQ              False             False                   False   \n",
       "\n",
       "                                                   description country  \n",
       "video_id                                                                \n",
       "kzwfHumJyYc  Presenting Sharry Mann latest Punjabi Song  Cu...      IN  \n",
       "zUZ1z7FwLc8  पीरियड्स के समय, पेट पर पति करता ऐसा, देखकर दं...      IN  \n",
       "10L1hZ9qa58  Watch Stylish Star Allu Arjun @ ChaySam Weddin...      IN  \n",
       "N1vE8iiEg64  This video showcases the difference between pe...      IN  \n",
       "kJzGH0PVQHQ  why Samantha became EMOTIONAL @ Samantha naga ...      IN  "
      ]
     },
     "execution_count": 4,
     "metadata": {},
     "output_type": "execute_result"
    }
   ],
   "source": [
    "# Add code here\n",
    "combined_data['trending_date'] = pd.to_datetime(combined_data['trending_date'], format=\"%y.%d.%m\")\n",
    "combined_data['publish_time'] = pd.to_datetime(combined_data['publish_time'], errors='coerce')\n",
    "\n",
    "# Add your Code here to remove NA's\n",
    "combined_data.dropna(subset=['trending_date'], how='all', inplace=True)\n",
    "combined_data.dropna(subset=['publish_time'], how='all', inplace=True)\n",
    "\n",
    "print(combined_data.isnull().sum())\n",
    "combined_data.head(5)"
   ]
  },
  {
   "cell_type": "code",
   "execution_count": 6,
   "metadata": {
    "id": "P7B9nlL1SwgT"
   },
   "outputs": [
    {
     "name": "stdout",
     "output_type": "stream",
     "text": [
      "validate_na (159906, 16)\n"
     ]
    }
   ],
   "source": [
    "# print\n",
    "print('validate_na',(combined_data.shape))"
   ]
  },
  {
   "cell_type": "markdown",
   "metadata": {
    "id": "gT2l5ttZan_J"
   },
   "source": [
    "## 5.2 Exploratory Data Analysis & Feature Engineering (20pt)\n",
    "\n",
    "\n",
    "**Exploratory Data Analysis:** \n",
    "EDA aims to analyze data sets by summarizing its key characteristics assisted by visualizations. EDA communicates insights beyond formal modeling/hypothesis testing with or without statistical model.\n",
    "\n",
    "**Feature Engineering:** \n",
    "The primary object of feature engineering is to extract features using domain knowledge. It aims to extract features from raw data using various data mining approaches.\n",
    "\n",
    "These features are fed to various machine learning classifiers. These features are also called as covariates, predicators, or simply a new column in data frame."
   ]
  },
  {
   "cell_type": "markdown",
   "metadata": {
    "id": "bL0aSQcFAxxz"
   },
   "source": [
    "#### 5.2.1: Calculating Mean, standard deviation, min and max. (1 pt)\n",
    "\n",
    "In this section, we will focus to compute various satistics, i.e., mean, standard deviation, min and max for numerical features in the dataset and then store them into lists, i.e.,  [views, likes, dislikes, comment_count].\n",
    "\n",
    "means = [views_mean, likes_mean, dislikes_mean, comment_count_mean] and similarly for mins, maxs and stds."
   ]
  },
  {
   "cell_type": "code",
   "execution_count": 7,
   "metadata": {
    "id": "sUvoJyv4OwK6"
   },
   "outputs": [],
   "source": [
    "# Add your code here\n",
    "satistics = combined_data.describe()\n",
    "\n",
    "maxs = satistics[satistics.index.isin(['max'])]\n",
    "mins = satistics[satistics.index.isin(['min'])]\n",
    "stds = satistics[satistics.index.isin(['std'])]\n",
    "means = satistics[satistics.index.isin(['mean'])]"
   ]
  },
  {
   "cell_type": "code",
   "execution_count": 8,
   "metadata": {
    "id": "G0186aPaSzA_"
   },
   "outputs": [
    {
     "name": "stdout",
     "output_type": "stream",
     "text": [
      "check_min_max_mean_std\n",
      " [     category_id        views      likes   dislikes  comment_count\n",
      "max         44.0  225211923.0  5613827.0  1674420.0      1361580.0,      category_id  views  likes  dislikes  comment_count\n",
      "min          1.0  223.0    0.0       0.0            0.0,      category_id         views          likes      dislikes  comment_count\n",
      "std     7.018454  4.540018e+06  150091.941439  20067.972651   24214.295675,       category_id         views         likes     dislikes  comment_count\n",
      "mean    20.596131  1.252458e+06  39892.592123  2060.577739    4544.332452]\n"
     ]
    },
    {
     "data": {
      "text/html": [
       "<div>\n",
       "<style scoped>\n",
       "    .dataframe tbody tr th:only-of-type {\n",
       "        vertical-align: middle;\n",
       "    }\n",
       "\n",
       "    .dataframe tbody tr th {\n",
       "        vertical-align: top;\n",
       "    }\n",
       "\n",
       "    .dataframe thead th {\n",
       "        text-align: right;\n",
       "    }\n",
       "</style>\n",
       "<table border=\"1\" class=\"dataframe\">\n",
       "  <thead>\n",
       "    <tr style=\"text-align: right;\">\n",
       "      <th></th>\n",
       "      <th>category_id</th>\n",
       "      <th>views</th>\n",
       "      <th>likes</th>\n",
       "      <th>dislikes</th>\n",
       "      <th>comment_count</th>\n",
       "    </tr>\n",
       "  </thead>\n",
       "  <tbody>\n",
       "    <tr>\n",
       "      <th>count</th>\n",
       "      <td>159906.000000</td>\n",
       "      <td>1.599060e+05</td>\n",
       "      <td>1.599060e+05</td>\n",
       "      <td>1.599060e+05</td>\n",
       "      <td>1.599060e+05</td>\n",
       "    </tr>\n",
       "    <tr>\n",
       "      <th>mean</th>\n",
       "      <td>20.596131</td>\n",
       "      <td>1.252458e+06</td>\n",
       "      <td>3.989259e+04</td>\n",
       "      <td>2.060578e+03</td>\n",
       "      <td>4.544332e+03</td>\n",
       "    </tr>\n",
       "    <tr>\n",
       "      <th>std</th>\n",
       "      <td>7.018454</td>\n",
       "      <td>4.540018e+06</td>\n",
       "      <td>1.500919e+05</td>\n",
       "      <td>2.006797e+04</td>\n",
       "      <td>2.421430e+04</td>\n",
       "    </tr>\n",
       "    <tr>\n",
       "      <th>min</th>\n",
       "      <td>1.000000</td>\n",
       "      <td>2.230000e+02</td>\n",
       "      <td>0.000000e+00</td>\n",
       "      <td>0.000000e+00</td>\n",
       "      <td>0.000000e+00</td>\n",
       "    </tr>\n",
       "    <tr>\n",
       "      <th>25%</th>\n",
       "      <td>19.000000</td>\n",
       "      <td>8.982200e+04</td>\n",
       "      <td>1.190000e+03</td>\n",
       "      <td>7.600000e+01</td>\n",
       "      <td>1.600000e+02</td>\n",
       "    </tr>\n",
       "    <tr>\n",
       "      <th>50%</th>\n",
       "      <td>24.000000</td>\n",
       "      <td>3.001550e+05</td>\n",
       "      <td>5.875000e+03</td>\n",
       "      <td>2.850000e+02</td>\n",
       "      <td>7.240000e+02</td>\n",
       "    </tr>\n",
       "    <tr>\n",
       "      <th>75%</th>\n",
       "      <td>24.000000</td>\n",
       "      <td>9.202835e+05</td>\n",
       "      <td>2.487900e+04</td>\n",
       "      <td>9.920000e+02</td>\n",
       "      <td>2.633000e+03</td>\n",
       "    </tr>\n",
       "    <tr>\n",
       "      <th>max</th>\n",
       "      <td>44.000000</td>\n",
       "      <td>2.252119e+08</td>\n",
       "      <td>5.613827e+06</td>\n",
       "      <td>1.674420e+06</td>\n",
       "      <td>1.361580e+06</td>\n",
       "    </tr>\n",
       "  </tbody>\n",
       "</table>\n",
       "</div>"
      ],
      "text/plain": [
       "         category_id         views         likes      dislikes  comment_count\n",
       "count  159906.000000  1.599060e+05  1.599060e+05  1.599060e+05   1.599060e+05\n",
       "mean       20.596131  1.252458e+06  3.989259e+04  2.060578e+03   4.544332e+03\n",
       "std         7.018454  4.540018e+06  1.500919e+05  2.006797e+04   2.421430e+04\n",
       "min         1.000000  2.230000e+02  0.000000e+00  0.000000e+00   0.000000e+00\n",
       "25%        19.000000  8.982200e+04  1.190000e+03  7.600000e+01   1.600000e+02\n",
       "50%        24.000000  3.001550e+05  5.875000e+03  2.850000e+02   7.240000e+02\n",
       "75%        24.000000  9.202835e+05  2.487900e+04  9.920000e+02   2.633000e+03\n",
       "max        44.000000  2.252119e+08  5.613827e+06  1.674420e+06   1.361580e+06"
      ]
     },
     "execution_count": 8,
     "metadata": {},
     "output_type": "execute_result"
    }
   ],
   "source": [
    "# print here\n",
    "print('check_min_max_mean_std\\n',([maxs, mins, stds, means]))\n",
    "satistics"
   ]
  },
  {
   "cell_type": "markdown",
   "metadata": {
    "id": "jwMkARfAFE-U"
   },
   "source": [
    "#### 5.2.2: Rescaling the features (1 pt)\n",
    "\n",
    "From the above section, it is clear that the numerical values range is really high.  we can use rescaling to avoid numerical instability problems. We can rescale likes, views, dislikes, and comment_count using log scale (base e). Let us store rescaled features in dataframe as likes_log, views_log, dislikes_log and comment_log.\n",
    "\n",
    "NOTE- log 0 is not defined, therefore, you should add 1 to each value prior to taking the log."
   ]
  },
  {
   "cell_type": "code",
   "execution_count": 9,
   "metadata": {
    "id": "-0wGMFGdFUBK"
   },
   "outputs": [
    {
     "data": {
      "text/html": [
       "<div>\n",
       "<style scoped>\n",
       "    .dataframe tbody tr th:only-of-type {\n",
       "        vertical-align: middle;\n",
       "    }\n",
       "\n",
       "    .dataframe tbody tr th {\n",
       "        vertical-align: top;\n",
       "    }\n",
       "\n",
       "    .dataframe thead th {\n",
       "        text-align: right;\n",
       "    }\n",
       "</style>\n",
       "<table border=\"1\" class=\"dataframe\">\n",
       "  <thead>\n",
       "    <tr style=\"text-align: right;\">\n",
       "      <th></th>\n",
       "      <th>trending_date</th>\n",
       "      <th>title</th>\n",
       "      <th>channel_title</th>\n",
       "      <th>category_id</th>\n",
       "      <th>publish_time</th>\n",
       "      <th>tags</th>\n",
       "      <th>views</th>\n",
       "      <th>likes</th>\n",
       "      <th>dislikes</th>\n",
       "      <th>comment_count</th>\n",
       "      <th>thumbnail_link</th>\n",
       "      <th>comments_disabled</th>\n",
       "      <th>ratings_disabled</th>\n",
       "      <th>video_error_or_removed</th>\n",
       "      <th>description</th>\n",
       "      <th>country</th>\n",
       "      <th>likes_log</th>\n",
       "      <th>views_log</th>\n",
       "      <th>dislikes_log</th>\n",
       "      <th>comment_log</th>\n",
       "    </tr>\n",
       "    <tr>\n",
       "      <th>video_id</th>\n",
       "      <th></th>\n",
       "      <th></th>\n",
       "      <th></th>\n",
       "      <th></th>\n",
       "      <th></th>\n",
       "      <th></th>\n",
       "      <th></th>\n",
       "      <th></th>\n",
       "      <th></th>\n",
       "      <th></th>\n",
       "      <th></th>\n",
       "      <th></th>\n",
       "      <th></th>\n",
       "      <th></th>\n",
       "      <th></th>\n",
       "      <th></th>\n",
       "      <th></th>\n",
       "      <th></th>\n",
       "      <th></th>\n",
       "      <th></th>\n",
       "    </tr>\n",
       "  </thead>\n",
       "  <tbody>\n",
       "    <tr>\n",
       "      <th>kzwfHumJyYc</th>\n",
       "      <td>2017-11-14</td>\n",
       "      <td>Sharry Mann: Cute Munda ( Song Teaser) | Parmi...</td>\n",
       "      <td>Lokdhun Punjabi</td>\n",
       "      <td>1</td>\n",
       "      <td>2017-11-12 12:20:39+00:00</td>\n",
       "      <td>sharry mann|\"sharry mann new song\"|\"sharry man...</td>\n",
       "      <td>1096327</td>\n",
       "      <td>33966</td>\n",
       "      <td>798</td>\n",
       "      <td>882</td>\n",
       "      <td>https://i.ytimg.com/vi/kzwfHumJyYc/default.jpg</td>\n",
       "      <td>False</td>\n",
       "      <td>False</td>\n",
       "      <td>False</td>\n",
       "      <td>Presenting Sharry Mann latest Punjabi Song  Cu...</td>\n",
       "      <td>IN</td>\n",
       "      <td>10.433145</td>\n",
       "      <td>13.907477</td>\n",
       "      <td>6.683361</td>\n",
       "      <td>6.783325</td>\n",
       "    </tr>\n",
       "    <tr>\n",
       "      <th>zUZ1z7FwLc8</th>\n",
       "      <td>2017-11-14</td>\n",
       "      <td>पीरियड्स के समय, पेट पर पति करता ऐसा, देखकर दं...</td>\n",
       "      <td>HJ NEWS</td>\n",
       "      <td>25</td>\n",
       "      <td>2017-11-13 05:43:56+00:00</td>\n",
       "      <td>पीरियड्स के समय|\"पेट पर पति करता ऐसा\"|\"देखकर द...</td>\n",
       "      <td>590101</td>\n",
       "      <td>735</td>\n",
       "      <td>904</td>\n",
       "      <td>0</td>\n",
       "      <td>https://i.ytimg.com/vi/zUZ1z7FwLc8/default.jpg</td>\n",
       "      <td>True</td>\n",
       "      <td>False</td>\n",
       "      <td>False</td>\n",
       "      <td>पीरियड्स के समय, पेट पर पति करता ऐसा, देखकर दं...</td>\n",
       "      <td>IN</td>\n",
       "      <td>6.601230</td>\n",
       "      <td>13.288051</td>\n",
       "      <td>6.807935</td>\n",
       "      <td>0.000000</td>\n",
       "    </tr>\n",
       "    <tr>\n",
       "      <th>10L1hZ9qa58</th>\n",
       "      <td>2017-11-14</td>\n",
       "      <td>Stylish Star Allu Arjun @ ChaySam Wedding Rece...</td>\n",
       "      <td>TFPC</td>\n",
       "      <td>24</td>\n",
       "      <td>2017-11-12 15:48:08+00:00</td>\n",
       "      <td>Stylish Star Allu Arjun @ ChaySam Wedding Rece...</td>\n",
       "      <td>473988</td>\n",
       "      <td>2011</td>\n",
       "      <td>243</td>\n",
       "      <td>149</td>\n",
       "      <td>https://i.ytimg.com/vi/10L1hZ9qa58/default.jpg</td>\n",
       "      <td>False</td>\n",
       "      <td>False</td>\n",
       "      <td>False</td>\n",
       "      <td>Watch Stylish Star Allu Arjun @ ChaySam Weddin...</td>\n",
       "      <td>IN</td>\n",
       "      <td>7.606885</td>\n",
       "      <td>13.068939</td>\n",
       "      <td>5.497168</td>\n",
       "      <td>5.010635</td>\n",
       "    </tr>\n",
       "    <tr>\n",
       "      <th>N1vE8iiEg64</th>\n",
       "      <td>2017-11-14</td>\n",
       "      <td>Eruma Saani | Tamil vs English</td>\n",
       "      <td>Eruma Saani</td>\n",
       "      <td>23</td>\n",
       "      <td>2017-11-12 07:08:48+00:00</td>\n",
       "      <td>Eruma Saani|\"Tamil Comedy Videos\"|\"Films\"|\"Mov...</td>\n",
       "      <td>1242680</td>\n",
       "      <td>70353</td>\n",
       "      <td>1624</td>\n",
       "      <td>2684</td>\n",
       "      <td>https://i.ytimg.com/vi/N1vE8iiEg64/default.jpg</td>\n",
       "      <td>False</td>\n",
       "      <td>False</td>\n",
       "      <td>False</td>\n",
       "      <td>This video showcases the difference between pe...</td>\n",
       "      <td>IN</td>\n",
       "      <td>11.161295</td>\n",
       "      <td>14.032782</td>\n",
       "      <td>7.393263</td>\n",
       "      <td>7.895436</td>\n",
       "    </tr>\n",
       "    <tr>\n",
       "      <th>kJzGH0PVQHQ</th>\n",
       "      <td>2017-11-14</td>\n",
       "      <td>why Samantha became EMOTIONAL @ Samantha naga ...</td>\n",
       "      <td>Filmylooks</td>\n",
       "      <td>24</td>\n",
       "      <td>2017-11-13 01:14:16+00:00</td>\n",
       "      <td>Filmylooks|\"latest news\"|\"telugu movies\"|\"telu...</td>\n",
       "      <td>464015</td>\n",
       "      <td>492</td>\n",
       "      <td>293</td>\n",
       "      <td>66</td>\n",
       "      <td>https://i.ytimg.com/vi/kJzGH0PVQHQ/default.jpg</td>\n",
       "      <td>False</td>\n",
       "      <td>False</td>\n",
       "      <td>False</td>\n",
       "      <td>why Samantha became EMOTIONAL @ Samantha naga ...</td>\n",
       "      <td>IN</td>\n",
       "      <td>6.200509</td>\n",
       "      <td>13.047674</td>\n",
       "      <td>5.683580</td>\n",
       "      <td>4.204693</td>\n",
       "    </tr>\n",
       "  </tbody>\n",
       "</table>\n",
       "</div>"
      ],
      "text/plain": [
       "            trending_date                                              title  \\\n",
       "video_id                                                                       \n",
       "kzwfHumJyYc    2017-11-14  Sharry Mann: Cute Munda ( Song Teaser) | Parmi...   \n",
       "zUZ1z7FwLc8    2017-11-14  पीरियड्स के समय, पेट पर पति करता ऐसा, देखकर दं...   \n",
       "10L1hZ9qa58    2017-11-14  Stylish Star Allu Arjun @ ChaySam Wedding Rece...   \n",
       "N1vE8iiEg64    2017-11-14                     Eruma Saani | Tamil vs English   \n",
       "kJzGH0PVQHQ    2017-11-14  why Samantha became EMOTIONAL @ Samantha naga ...   \n",
       "\n",
       "               channel_title  category_id              publish_time  \\\n",
       "video_id                                                              \n",
       "kzwfHumJyYc  Lokdhun Punjabi            1 2017-11-12 12:20:39+00:00   \n",
       "zUZ1z7FwLc8          HJ NEWS           25 2017-11-13 05:43:56+00:00   \n",
       "10L1hZ9qa58             TFPC           24 2017-11-12 15:48:08+00:00   \n",
       "N1vE8iiEg64      Eruma Saani           23 2017-11-12 07:08:48+00:00   \n",
       "kJzGH0PVQHQ       Filmylooks           24 2017-11-13 01:14:16+00:00   \n",
       "\n",
       "                                                          tags    views  \\\n",
       "video_id                                                                  \n",
       "kzwfHumJyYc  sharry mann|\"sharry mann new song\"|\"sharry man...  1096327   \n",
       "zUZ1z7FwLc8  पीरियड्स के समय|\"पेट पर पति करता ऐसा\"|\"देखकर द...   590101   \n",
       "10L1hZ9qa58  Stylish Star Allu Arjun @ ChaySam Wedding Rece...   473988   \n",
       "N1vE8iiEg64  Eruma Saani|\"Tamil Comedy Videos\"|\"Films\"|\"Mov...  1242680   \n",
       "kJzGH0PVQHQ  Filmylooks|\"latest news\"|\"telugu movies\"|\"telu...   464015   \n",
       "\n",
       "             likes  dislikes  comment_count  \\\n",
       "video_id                                      \n",
       "kzwfHumJyYc  33966       798            882   \n",
       "zUZ1z7FwLc8    735       904              0   \n",
       "10L1hZ9qa58   2011       243            149   \n",
       "N1vE8iiEg64  70353      1624           2684   \n",
       "kJzGH0PVQHQ    492       293             66   \n",
       "\n",
       "                                             thumbnail_link  \\\n",
       "video_id                                                      \n",
       "kzwfHumJyYc  https://i.ytimg.com/vi/kzwfHumJyYc/default.jpg   \n",
       "zUZ1z7FwLc8  https://i.ytimg.com/vi/zUZ1z7FwLc8/default.jpg   \n",
       "10L1hZ9qa58  https://i.ytimg.com/vi/10L1hZ9qa58/default.jpg   \n",
       "N1vE8iiEg64  https://i.ytimg.com/vi/N1vE8iiEg64/default.jpg   \n",
       "kJzGH0PVQHQ  https://i.ytimg.com/vi/kJzGH0PVQHQ/default.jpg   \n",
       "\n",
       "             comments_disabled  ratings_disabled  video_error_or_removed  \\\n",
       "video_id                                                                   \n",
       "kzwfHumJyYc              False             False                   False   \n",
       "zUZ1z7FwLc8               True             False                   False   \n",
       "10L1hZ9qa58              False             False                   False   \n",
       "N1vE8iiEg64              False             False                   False   \n",
       "kJzGH0PVQHQ              False             False                   False   \n",
       "\n",
       "                                                   description country  \\\n",
       "video_id                                                                 \n",
       "kzwfHumJyYc  Presenting Sharry Mann latest Punjabi Song  Cu...      IN   \n",
       "zUZ1z7FwLc8  पीरियड्स के समय, पेट पर पति करता ऐसा, देखकर दं...      IN   \n",
       "10L1hZ9qa58  Watch Stylish Star Allu Arjun @ ChaySam Weddin...      IN   \n",
       "N1vE8iiEg64  This video showcases the difference between pe...      IN   \n",
       "kJzGH0PVQHQ  why Samantha became EMOTIONAL @ Samantha naga ...      IN   \n",
       "\n",
       "             likes_log  views_log  dislikes_log  comment_log  \n",
       "video_id                                                      \n",
       "kzwfHumJyYc  10.433145  13.907477      6.683361     6.783325  \n",
       "zUZ1z7FwLc8   6.601230  13.288051      6.807935     0.000000  \n",
       "10L1hZ9qa58   7.606885  13.068939      5.497168     5.010635  \n",
       "N1vE8iiEg64  11.161295  14.032782      7.393263     7.895436  \n",
       "kJzGH0PVQHQ   6.200509  13.047674      5.683580     4.204693  "
      ]
     },
     "execution_count": 9,
     "metadata": {},
     "output_type": "execute_result"
    }
   ],
   "source": [
    "# Add your code here\n",
    "combined_data['likes_log'] = np.log(combined_data['likes'] + 1 ) \n",
    "combined_data['views_log'] = np.log(combined_data['views'] + 1)\n",
    "combined_data['dislikes_log'] = np.log(combined_data['dislikes'] + 1 )\n",
    "combined_data['comment_log'] = np.log(combined_data['comment_count'] + 1 )\n",
    "\n",
    "combined_data.head(5)"
   ]
  },
  {
   "cell_type": "code",
   "execution_count": 10,
   "metadata": {
    "id": "ZrJSqeZaS1_0"
   },
   "outputs": [
    {
     "name": "stdout",
     "output_type": "stream",
     "text": [
      "check_feature_rescaling [8.498850815285932, 12.506308658065876, 5.565499624090151, 6.371128212529455]\n"
     ]
    }
   ],
   "source": [
    "# Print results\n",
    "\n",
    "print('check_feature_rescaling',([np.mean(combined_data['likes_log']),np.mean(combined_data['views_log']),np.mean(combined_data['dislikes_log']),\n",
    "                                         np.mean(combined_data['comment_log'])]))"
   ]
  },
  {
   "cell_type": "markdown",
   "metadata": {
    "id": "Kqt6-d6NGA9F"
   },
   "source": [
    "#### 5.2.3: Plotting the distribution (2 pt)\n",
    "\n",
    "Plot the distribution for the newly created log features. They should look like normal distribution curves."
   ]
  },
  {
   "cell_type": "code",
   "execution_count": 11,
   "metadata": {
    "id": "gM-HSdnGE5Cf"
   },
   "outputs": [
    {
     "data": {
      "text/plain": [
       "<AxesSubplot:ylabel='Density'>"
      ]
     },
     "execution_count": 11,
     "metadata": {},
     "output_type": "execute_result"
    },
    {
     "data": {
      "image/png": "[encoded data removed]",
      "text/plain": [
       "<Figure size 432x288 with 1 Axes>"
      ]
     },
     "metadata": {
      "needs_background": "light"
     },
     "output_type": "display_data"
    }
   ],
   "source": [
    "# Add your code here for plotting the distribution\n",
    "combined_data['likes_log'].plot.kde()\n",
    "combined_data['views_log'].plot.kde()\n",
    "combined_data['dislikes_log'].plot.kde()\n",
    "combined_data['comment_log'].plot.kde()"
   ]
  },
  {
   "cell_type": "markdown",
   "metadata": {
    "id": "AuCVICPLBV1l"
   },
   "source": [
    "#### 5.2.4: Comparing views, likes, dislikes against categories (3 pt)\n",
    "\n",
    "Let us gain isights into data using various catergories, views, likes and dislikes.\n",
    "\n",
    "Draw three plots for the following:\n",
    "\n",
    "1.) How many videos are there for each category?\n",
    "\n",
    "2.) What is the distribution of views against categories? (Use boxplot and views on log scale)\n",
    "\n",
    "3.) What is the distribution of dislikes against categories? (Use boxplot and dislikes on log scale)\n",
    "\n",
    "For extra credit:\n",
    "You can try to gain more insights into the dataset by drawing interesting plots. Some ideas include:\n",
    "\n",
    "* How long does a video trend in a country? \n",
    "* What are some videos which got popular because they were disliked? \n",
    "\n",
    "Think of such interesting things and add here. We will award points based on creativity of the insights that you get."
   ]
  },
  {
   "cell_type": "code",
   "execution_count": 58,
   "metadata": {
    "id": "Vl_bgpXbB6kt"
   },
   "outputs": [
    {
     "name": "stdout",
     "output_type": "stream",
     "text": [
      "Category Name count\n",
      "Entertainment      49946\n",
      "Music              18007\n",
      "People & Blogs     15658\n",
      "News & Politics    15639\n",
      "Comedy             15002\n",
      "Name: category, dtype: int64\n"
     ]
    },
    {
     "name": "stderr",
     "output_type": "stream",
     "text": [
      "/Users/manojpawar/opt/anaconda3/lib/python3.8/site-packages/seaborn/_decorators.py:36: FutureWarning: Pass the following variable as a keyword arg: x. From version 0.12, the only valid positional argument will be `data`, and passing other arguments without an explicit keyword will result in an error or misinterpretation.\n",
      "  warnings.warn(\n"
     ]
    },
    {
     "data": {
      "image/png": "[encoded data removed]",
      "text/plain": [
       "<Figure size 1008x648 with 2 Axes>"
      ]
     },
     "metadata": {
      "needs_background": "light"
     },
     "output_type": "display_data"
    }
   ],
   "source": [
    "# Your code goes here\n",
    "# Plots will be manually graded\n",
    "print(\"Category Name count\")\n",
    "print(combined_data.category.value_counts()[:5])\n",
    "\n",
    "plt.figure(figsize = (14,9))\n",
    "\n",
    "plt.subplot(211)\n",
    "g = sns.countplot('category', data=combined_data, palette=\"Set1\")\n",
    "g.set_xticklabels(g.get_xticklabels(),rotation=45)\n",
    "g.set_title(\"Counting the Video Category's \", fontsize=15)\n",
    "g.set_xlabel(\"\", fontsize=12)\n",
    "g.set_ylabel(\"Count\", fontsize=12)\n",
    "\n",
    "plt.subplot(212)\n",
    "g1 = sns.boxplot(x='category', y='views_log', data=combined_data, palette=\"Set1\")\n",
    "g1.set_xticklabels(g.get_xticklabels(),rotation=45)\n",
    "g1.set_title(\"Views Distribuition by Category Names\", fontsize=20)\n",
    "g1.set_xlabel(\"\", fontsize=15)\n",
    "g1.set_ylabel(\"Views(log)\", fontsize=15)\n",
    "\n",
    "plt.subplots_adjust(hspace = 0.9, top = 0.9)\n",
    "\n",
    "plt.show()"
   ]
  },
  {
   "cell_type": "code",
   "execution_count": 59,
   "metadata": {},
   "outputs": [
    {
     "data": {
      "image/png": "[encoded data removed]",
      "text/plain": [
       "<Figure size 1008x432 with 1 Axes>"
      ]
     },
     "metadata": {
      "needs_background": "light"
     },
     "output_type": "display_data"
    }
   ],
   "source": [
    "plt.figure(figsize = (14,6))\n",
    "\n",
    "g = sns.boxplot(x='category', y='dislikes_log', data=combined_data, palette=\"Set1\")\n",
    "g.set_xticklabels(g.get_xticklabels(),rotation=45)\n",
    "g.set_title(\"Dislikes distribuition by Category's\", fontsize=15)\n",
    "g.set_xlabel(\"\", fontsize=12)\n",
    "g.set_ylabel(\"Dislikes(log)\", fontsize=12)\n",
    "plt.show()"
   ]
  },
  {
   "cell_type": "code",
   "execution_count": 60,
   "metadata": {},
   "outputs": [
    {
     "data": {
      "image/png": "[encoded data removed]",
      "text/plain": [
       "<Figure size 1008x432 with 1 Axes>"
      ]
     },
     "metadata": {
      "needs_background": "light"
     },
     "output_type": "display_data"
    }
   ],
   "source": [
    "plt.figure(figsize = (14,6))\n",
    "\n",
    "g = sns.boxplot(x='category', y='comment_log', data=combined_data, palette=\"Set1\")\n",
    "g.set_xticklabels(g.get_xticklabels(),rotation=45)\n",
    "g.set_title(\"Comments Distribuition by Category Names\", fontsize=15)\n",
    "g.set_xlabel(\"\", fontsize=12)\n",
    "g.set_ylabel(\"Comments Count(log)\", fontsize=12)\n",
    "\n",
    "plt.show()"
   ]
  },
  {
   "cell_type": "code",
   "execution_count": 61,
   "metadata": {},
   "outputs": [
    {
     "data": {
      "image/png": "[encoded data removed]",
      "text/plain": [
       "<Figure size 1008x576 with 3 Axes>"
      ]
     },
     "metadata": {
      "needs_background": "light"
     },
     "output_type": "display_data"
    }
   ],
   "source": [
    "plt.figure(figsize = (14,8))\n",
    "plt.subplots_adjust(wspace = 0.2, hspace = 0.4,top = 0.9)\n",
    "\n",
    "plt.subplot(2,2,1)\n",
    "g = sns.countplot(x='comments_disabled', data=combined_data)\n",
    "g.set_title(\"Comments Disabled\", fontsize=16)\n",
    "\n",
    "plt.subplot(2,2,2)\n",
    "g1 = sns.countplot(x='ratings_disabled', data=combined_data)\n",
    "g1.set_title(\"Rating Disabled\", fontsize=16)\n",
    "\n",
    "plt.subplot(2,2,3)\n",
    "g2 = sns.countplot(x='video_error_or_removed', data=combined_data)\n",
    "g2.set_title(\"Video Error or Removed\", fontsize=16)\n",
    "plt.show()"
   ]
  },
  {
   "cell_type": "code",
   "execution_count": 65,
   "metadata": {},
   "outputs": [
    {
     "data": {
      "image/png": "[encoded data removed]",
      "text/plain": [
       "<Figure size 720x576 with 2 Axes>"
      ]
     },
     "metadata": {
      "needs_background": "light"
     },
     "output_type": "display_data"
    }
   ],
   "source": [
    "plt.figure(figsize = (10,8))\n",
    "\n",
    "#Let's verify the correlation of each value\n",
    "sns.heatmap(combined_data[['comment_log',\n",
    "         'views_log','likes_log','dislikes_log', \"category\"]].corr(), annot=True)\n",
    "plt.show()"
   ]
  },
  {
   "cell_type": "markdown",
   "metadata": {
    "id": "a9l7UZPoGBcB"
   },
   "source": [
    "#### 5.2.5: Feature Engineering (8 pts)\n"
   ]
  },
  {
   "cell_type": "code",
   "execution_count": null,
   "metadata": {},
   "outputs": [],
   "source": []
  },
  {
   "cell_type": "markdown",
   "metadata": {
    "id": "bUSsAlnaI4Ep"
   },
   "source": [
    "\n",
    "##### a. Processing tags (1 pt)\n",
    "\n",
    "The feature tags in the dataset has a delimiter, use that delimiter to count the number of tags, create a feature called num_tags and add that to the dataset."
   ]
  },
  {
   "cell_type": "code",
   "execution_count": 13,
   "metadata": {
    "id": "4L_6WcapHPDl"
   },
   "outputs": [
    {
     "data": {
      "text/plain": [
       "video_id\n",
       "kzwfHumJyYc    14\n",
       "zUZ1z7FwLc8    18\n",
       "10L1hZ9qa58    13\n",
       "N1vE8iiEg64    19\n",
       "kJzGH0PVQHQ    10\n",
       "               ..\n",
       "BZt0qjTWNhw    13\n",
       "1h7KV2sjUWY     0\n",
       "D6Oy4LfoqsU    23\n",
       "oV0zkMe1K8s    21\n",
       "ooyjaVdt-jA     3\n",
       "Name: num_tags, Length: 159906, dtype: int64"
      ]
     },
     "execution_count": 13,
     "metadata": {},
     "output_type": "execute_result"
    }
   ],
   "source": [
    "# Add your code here\n",
    "def countDelimiter(x):\n",
    "    return int(x.count('|'))\n",
    "\n",
    "combined_data[\"num_tags\"]=combined_data[\"tags\"].apply(countDelimiter)\n",
    "combined_data[\"num_tags\"]"
   ]
  },
  {
   "cell_type": "markdown",
   "metadata": {
    "id": "8bnJqokpI1Mj"
   },
   "source": [
    "##### b. Processing description and title (2 pts.)\n",
    "\n",
    "Calculate the length of description and title and add them as features to the dataset"
   ]
  },
  {
   "cell_type": "code",
   "execution_count": 14,
   "metadata": {
    "id": "NJyWb54zHes2"
   },
   "outputs": [
    {
     "data": {
      "text/plain": [
       "video_id\n",
       "kzwfHumJyYc     920\n",
       "zUZ1z7FwLc8    2232\n",
       "10L1hZ9qa58     482\n",
       "N1vE8iiEg64     263\n",
       "kJzGH0PVQHQ     753\n",
       "               ... \n",
       "BZt0qjTWNhw      46\n",
       "1h7KV2sjUWY       3\n",
       "D6Oy4LfoqsU     775\n",
       "oV0zkMe1K8s    3268\n",
       "ooyjaVdt-jA     709\n",
       "Name: desc_len, Length: 159906, dtype: int64"
      ]
     },
     "execution_count": 14,
     "metadata": {},
     "output_type": "execute_result"
    }
   ],
   "source": [
    "# Add your code here\n",
    "def calLength(x):\n",
    "    value = str(x)\n",
    "    return int(len(value)) if x is not None else 0\n",
    "               \n",
    "combined_data[\"desc_len\"]=combined_data[\"description\"].apply(calLength)\n",
    "combined_data[\"desc_len\"]"
   ]
  },
  {
   "cell_type": "code",
   "execution_count": 15,
   "metadata": {
    "id": "ZPMnQhbJHgx0"
   },
   "outputs": [
    {
     "data": {
      "text/plain": [
       "video_id\n",
       "kzwfHumJyYc    81\n",
       "zUZ1z7FwLc8    58\n",
       "10L1hZ9qa58    58\n",
       "N1vE8iiEg64    30\n",
       "kJzGH0PVQHQ    88\n",
       "               ..\n",
       "BZt0qjTWNhw    28\n",
       "1h7KV2sjUWY    26\n",
       "D6Oy4LfoqsU    84\n",
       "oV0zkMe1K8s    35\n",
       "ooyjaVdt-jA    64\n",
       "Name: len_title, Length: 159906, dtype: int64"
      ]
     },
     "execution_count": 15,
     "metadata": {},
     "output_type": "execute_result"
    }
   ],
   "source": [
    "# Add your code here\n",
    "combined_data[\"len_title\"]=combined_data[\"title\"].apply(calLength)\n",
    "combined_data[\"len_title\"]"
   ]
  },
  {
   "cell_type": "code",
   "execution_count": 16,
   "metadata": {
    "id": "ksE7fNPQS_qr"
   },
   "outputs": [
    {
     "name": "stdout",
     "output_type": "stream",
     "text": [
      "check_tags_title_description [count    159906.000000\n",
      "mean         17.185178\n",
      "std          11.988413\n",
      "min           0.000000\n",
      "25%           8.000000\n",
      "50%          16.000000\n",
      "75%          25.000000\n",
      "max         123.000000\n",
      "Name: num_tags, dtype: float64, count    159906.000000\n",
      "mean        927.998449\n",
      "std         860.416695\n",
      "min           1.000000\n",
      "25%         331.000000\n",
      "50%         686.000000\n",
      "75%        1264.000000\n",
      "max        5260.000000\n",
      "Name: desc_len, dtype: float64, count    159906.000000\n",
      "mean         56.334428\n",
      "std          22.957137\n",
      "min           1.000000\n",
      "25%          38.000000\n",
      "50%          54.000000\n",
      "75%          74.000000\n",
      "max         100.000000\n",
      "Name: len_title, dtype: float64]\n"
     ]
    }
   ],
   "source": [
    "# Print cell\n",
    "print('check_tags_title_description',([combined_data['num_tags'].describe(),combined_data['desc_len'].describe(),combined_data['len_title'].describe()]))"
   ]
  },
  {
   "cell_type": "markdown",
   "metadata": {
    "id": "aOaB6ZbCJTBv"
   },
   "source": [
    "##### c. Processing publish_time. (4 pts.)\n",
    "\n",
    "\n",
    "Split 'publish_time' feature into three parts time, date, and weekday, where time will contain the time component of the original feature and date and weekday will store the corresponding date and weekday number respectively. Start with 1 for Monday and end with 7 for Sunday."
   ]
  },
  {
   "cell_type": "code",
   "execution_count": 17,
   "metadata": {
    "id": "ZVJTEJRFHrI5"
   },
   "outputs": [],
   "source": [
    "# Add your code here\n",
    "#temp_publish_time = pd.to_datetime(combined_data['publish_time'], errors='coerce')\n",
    "temp_publish_time = combined_data['publish_time'] \n",
    "combined_data['publish_date'] = temp_publish_time.dt.date\n",
    "#day on which video was published\n",
    "combined_data['publish_weekday']=temp_publish_time.dt.day_name()\n",
    "combined_data['publish_time'] = temp_publish_time.dt.time"
   ]
  },
  {
   "cell_type": "code",
   "execution_count": 18,
   "metadata": {},
   "outputs": [],
   "source": [
    "random_index = random.randint(0,combined_data.shape[0]-1)"
   ]
  },
  {
   "cell_type": "code",
   "execution_count": 19,
   "metadata": {
    "id": "Ud5dPVljTDoQ"
   },
   "outputs": [
    {
     "name": "stdout",
     "output_type": "stream",
     "text": [
      "check_date_time_processing [datetime.time(13, 0, 2), datetime.date(2017, 12, 7), [19354, 19644, 22967, 23250, 23277, 24263, 27151]]\n"
     ]
    }
   ],
   "source": [
    "# Print cell\n",
    "print('check_date_time_processing',([combined_data['publish_time'].iloc[random_index],combined_data['publish_date'].iloc[random_index],sorted(list(combined_data[\"publish_weekday\"].value_counts()))]))"
   ]
  },
  {
   "cell_type": "markdown",
   "metadata": {
    "id": "mx1JPowWKKE7"
   },
   "source": [
    "##### d. Number of videos per weekday (1 pt)\n",
    "\n",
    "Calculate the number of videos published per day of the week. Which day of the week do people publish most videos? Make a visualization demonstrating the result."
   ]
  },
  {
   "cell_type": "code",
   "execution_count": 20,
   "metadata": {
    "id": "IYNXbH9AKhzy"
   },
   "outputs": [
    {
     "data": {
      "image/png": "[encoded data removed]",
      "text/plain": [
       "<Figure size 1008x576 with 1 Axes>"
      ]
     },
     "metadata": {
      "needs_background": "light"
     },
     "output_type": "display_data"
    }
   ],
   "source": [
    "# Add your code for plot here\n",
    "# Plots will be manually graded\n",
    "# Add your code for plot here\n",
    "# Plots will be manually graded\n",
    "ax1 = combined_data['publish_weekday'].value_counts().plot(kind='bar',\n",
    "                                    figsize=(14,8),\n",
    "                                    title=\"Number for each Owner Name\")\n",
    "ax1.set_xlabel(\"Owner Names\")\n",
    "ax1.set_ylabel(\"Frequency\")\n",
    "plt.show()"
   ]
  },
  {
   "cell_type": "markdown",
   "metadata": {
    "id": "qd7dG7GTKrVQ"
   },
   "source": [
    "#### 5.2.6: Dropping irrelevant non numeric columns (1 pt.)\n",
    "\n",
    "Drop all the columns that are non-numeric as we have processed them and stored the information captured in them in the dataset as numbers. \n",
    "\n",
    "Note that a few key columns are non-numeric but should be kept in the dataframe:\n",
    "\n",
    "comments_disabled, ratings_disabled, video_error_or_removed, country\n",
    "\n",
    "Also drop original views, like, comments and dislikes as you have processed them as logs and stored them as separate feature. "
   ]
  },
  {
   "cell_type": "code",
   "execution_count": 27,
   "metadata": {
    "id": "UtSoKgf7IOrJ",
    "scrolled": false
   },
   "outputs": [
    {
     "name": "stdout",
     "output_type": "stream",
     "text": [
      "Columns of type object: ['title', 'channel_title', 'publish_time', 'tags', 'thumbnail_link', 'description', 'country', 'publish_date', 'publish_weekday']\n",
      "Final columns to remove: ['title', 'channel_title', 'publish_time', 'tags', 'thumbnail_link', 'description', 'publish_date', 'views', 'likes', 'dislikes', 'comment_count']\n",
      "Column in Df before removing: ['trending_date', 'title', 'channel_title', 'category_id', 'publish_time', 'tags', 'views', 'likes', 'dislikes', 'comment_count', 'thumbnail_link', 'comments_disabled', 'ratings_disabled', 'video_error_or_removed', 'description', 'country', 'likes_log', 'views_log', 'dislikes_log', 'comment_log', 'num_tags', 'desc_len', 'len_title', 'publish_date', 'publish_weekday']\n",
      "trending_date             datetime64[ns]\n",
      "category_id                        int64\n",
      "comments_disabled                   bool\n",
      "ratings_disabled                    bool\n",
      "video_error_or_removed              bool\n",
      "country                           object\n",
      "likes_log                        float64\n",
      "views_log                        float64\n",
      "dislikes_log                     float64\n",
      "comment_log                      float64\n",
      "num_tags                           int64\n",
      "desc_len                           int64\n",
      "len_title                          int64\n",
      "publish_weekday                   object\n",
      "dtype: object\n"
     ]
    }
   ],
   "source": [
    "## Add your code here\n",
    "columns_to_drop = combined_data.select_dtypes(include=[np.object]).columns.tolist()\n",
    "print('Columns of type object:',columns_to_drop)\n",
    "if 'country' in columns_to_drop: columns_to_drop.remove('country')\n",
    "if 'publish_weekday' in columns_to_drop: columns_to_drop.remove('publish_weekday')\n",
    "if 'category' in columns_to_drop: columns_to_drop.remove('category')\n",
    "\n",
    "columns_to_drop.extend(['views', 'likes', 'dislikes', 'comment_count'])\n",
    "print('Final columns to remove:',columns_to_drop)\n",
    "print('Column in Df before removing:',combined_data.columns.tolist())\n",
    "combined_data.drop(columns_to_drop, axis='columns', inplace=True)\n",
    "print(combined_data.dtypes)"
   ]
  },
  {
   "cell_type": "markdown",
   "metadata": {
    "id": "_HtmJiKYLlxx"
   },
   "source": [
    "#### 5.2.7: Convert categorical features in the dataset into one hot vectors. (3 pts)\n",
    "\n",
    "There are three categorical features remaining in the dataset, identify them and convert them into one hot vectors. Be sure that when you one hot encode, the original column is replaced."
   ]
  },
  {
   "cell_type": "code",
   "execution_count": 30,
   "metadata": {
    "id": "63tJVBE0Kkju"
   },
   "outputs": [
    {
     "name": "stdout",
     "output_type": "stream",
     "text": [
      "video_id\n",
      "kzwfHumJyYc      Sunday\n",
      "zUZ1z7FwLc8      Monday\n",
      "10L1hZ9qa58      Sunday\n",
      "N1vE8iiEg64      Sunday\n",
      "kJzGH0PVQHQ      Monday\n",
      "                 ...   \n",
      "BZt0qjTWNhw      Friday\n",
      "1h7KV2sjUWY      Friday\n",
      "D6Oy4LfoqsU      Friday\n",
      "oV0zkMe1K8s    Thursday\n",
      "ooyjaVdt-jA    Thursday\n",
      "Name: publish_weekday, Length: 159906, dtype: category\n",
      "Categories (7, object): ['Friday', 'Monday', 'Saturday', 'Sunday', 'Thursday', 'Tuesday', 'Wednesday']\n",
      "video_id\n",
      "kzwfHumJyYc    IN\n",
      "zUZ1z7FwLc8    IN\n",
      "10L1hZ9qa58    IN\n",
      "N1vE8iiEg64    IN\n",
      "kJzGH0PVQHQ    IN\n",
      "               ..\n",
      "BZt0qjTWNhw    US\n",
      "1h7KV2sjUWY    US\n",
      "D6Oy4LfoqsU    US\n",
      "oV0zkMe1K8s    US\n",
      "ooyjaVdt-jA    US\n",
      "Name: country, Length: 159906, dtype: category\n",
      "Categories (4, object): ['CA', 'FR', 'IN', 'US']\n"
     ]
    },
    {
     "ename": "AttributeError",
     "evalue": "'DataFrame' object has no attribute 'category'",
     "output_type": "error",
     "traceback": [
      "\u001b[0;31m---------------------------------------------------------------------------\u001b[0m",
      "\u001b[0;31mAttributeError\u001b[0m                            Traceback (most recent call last)",
      "\u001b[0;32m<ipython-input-30-cb0e24502aca>\u001b[0m in \u001b[0;36m<module>\u001b[0;34m\u001b[0m\n\u001b[1;32m      3\u001b[0m \u001b[0mprint\u001b[0m\u001b[0;34m(\u001b[0m\u001b[0mcombined_data\u001b[0m\u001b[0;34m.\u001b[0m\u001b[0mpublish_weekday\u001b[0m\u001b[0;34m.\u001b[0m\u001b[0mastype\u001b[0m\u001b[0;34m(\u001b[0m\u001b[0;34m'category'\u001b[0m\u001b[0;34m)\u001b[0m\u001b[0;34m)\u001b[0m\u001b[0;34m\u001b[0m\u001b[0;34m\u001b[0m\u001b[0m\n\u001b[1;32m      4\u001b[0m \u001b[0mprint\u001b[0m\u001b[0;34m(\u001b[0m\u001b[0mcombined_data\u001b[0m\u001b[0;34m.\u001b[0m\u001b[0mcountry\u001b[0m\u001b[0;34m.\u001b[0m\u001b[0mastype\u001b[0m\u001b[0;34m(\u001b[0m\u001b[0;34m'category'\u001b[0m\u001b[0;34m)\u001b[0m\u001b[0;34m)\u001b[0m\u001b[0;34m\u001b[0m\u001b[0;34m\u001b[0m\u001b[0m\n\u001b[0;32m----> 5\u001b[0;31m \u001b[0mprint\u001b[0m\u001b[0;34m(\u001b[0m\u001b[0mcombined_data\u001b[0m\u001b[0;34m.\u001b[0m\u001b[0mcategory\u001b[0m\u001b[0;34m.\u001b[0m\u001b[0mastype\u001b[0m\u001b[0;34m(\u001b[0m\u001b[0;34m'category'\u001b[0m\u001b[0;34m)\u001b[0m\u001b[0;34m)\u001b[0m\u001b[0;34m\u001b[0m\u001b[0;34m\u001b[0m\u001b[0m\n\u001b[0m\u001b[1;32m      6\u001b[0m \u001b[0;31m# Hint: Use pd.get_dummies()range.\u001b[0m\u001b[0;34m\u001b[0m\u001b[0;34m\u001b[0m\u001b[0;34m\u001b[0m\u001b[0m\n\u001b[1;32m      7\u001b[0m \u001b[0;34m\u001b[0m\u001b[0m\n",
      "\u001b[0;32m~/opt/anaconda3/lib/python3.8/site-packages/pandas/core/generic.py\u001b[0m in \u001b[0;36m__getattr__\u001b[0;34m(self, name)\u001b[0m\n\u001b[1;32m   5137\u001b[0m             \u001b[0;32mif\u001b[0m \u001b[0mself\u001b[0m\u001b[0;34m.\u001b[0m\u001b[0m_info_axis\u001b[0m\u001b[0;34m.\u001b[0m\u001b[0m_can_hold_identifiers_and_holds_name\u001b[0m\u001b[0;34m(\u001b[0m\u001b[0mname\u001b[0m\u001b[0;34m)\u001b[0m\u001b[0;34m:\u001b[0m\u001b[0;34m\u001b[0m\u001b[0;34m\u001b[0m\u001b[0m\n\u001b[1;32m   5138\u001b[0m                 \u001b[0;32mreturn\u001b[0m \u001b[0mself\u001b[0m\u001b[0;34m[\u001b[0m\u001b[0mname\u001b[0m\u001b[0;34m]\u001b[0m\u001b[0;34m\u001b[0m\u001b[0;34m\u001b[0m\u001b[0m\n\u001b[0;32m-> 5139\u001b[0;31m             \u001b[0;32mreturn\u001b[0m \u001b[0mobject\u001b[0m\u001b[0;34m.\u001b[0m\u001b[0m__getattribute__\u001b[0m\u001b[0;34m(\u001b[0m\u001b[0mself\u001b[0m\u001b[0;34m,\u001b[0m \u001b[0mname\u001b[0m\u001b[0;34m)\u001b[0m\u001b[0;34m\u001b[0m\u001b[0;34m\u001b[0m\u001b[0m\n\u001b[0m\u001b[1;32m   5140\u001b[0m \u001b[0;34m\u001b[0m\u001b[0m\n\u001b[1;32m   5141\u001b[0m     \u001b[0;32mdef\u001b[0m \u001b[0m__setattr__\u001b[0m\u001b[0;34m(\u001b[0m\u001b[0mself\u001b[0m\u001b[0;34m,\u001b[0m \u001b[0mname\u001b[0m\u001b[0;34m:\u001b[0m \u001b[0mstr\u001b[0m\u001b[0;34m,\u001b[0m \u001b[0mvalue\u001b[0m\u001b[0;34m)\u001b[0m \u001b[0;34m->\u001b[0m \u001b[0;32mNone\u001b[0m\u001b[0;34m:\u001b[0m\u001b[0;34m\u001b[0m\u001b[0;34m\u001b[0m\u001b[0m\n",
      "\u001b[0;31mAttributeError\u001b[0m: 'DataFrame' object has no attribute 'category'"
     ]
    }
   ],
   "source": [
    "combined_data.publish_weekday = combined_data.publish_weekday.astype('category')\n",
    "combined_data.country = combined_data.country.astype('category')\n",
    "print(combined_data.publish_weekday.astype('category'))\n",
    "print(combined_data.country.astype('category'))\n",
    "print(combined_data.category.astype('category'))\n",
    "# Hint: Use pd.get_dummies()range. \n",
    "\n",
    "\n"
   ]
  },
  {
   "cell_type": "code",
   "execution_count": null,
   "metadata": {
    "id": "xoC5xvGGPw-X"
   },
   "outputs": [],
   "source": [
    "# Print cell.\n",
    "print('check_final_df',(combined_data.shape))"
   ]
  },
  {
   "cell_type": "markdown",
   "metadata": {
    "id": "kAsgbsEn6lzv"
   },
   "source": [
    "Let's write out the modified data we created to a file so that we can reuse it in Section 2."
   ]
  },
  {
   "cell_type": "code",
   "execution_count": null,
   "metadata": {
    "id": "-t8fKXq36k6P"
   },
   "outputs": [],
   "source": [
    "combined_data_sec_2 = combined_data.copy()\n",
    "combined_data_sec_2.rename(columns = {'views_log':'label'}, inplace = True) \n",
    "combined_data_sec_2.to_csv('combined_data.csv')"
   ]
  },
  {
   "cell_type": "markdown",
   "metadata": {
    "id": "FIcXjRtDMlFt"
   },
   "source": [
    "#### 5.2.8: Split into x and y (1 pt)\n",
    "\n",
    "Split the data into features and label, in this case the features are anything but views_log and the label is views_log."
   ]
  },
  {
   "cell_type": "code",
   "execution_count": null,
   "metadata": {
    "id": "3nSwRvMSSFa3"
   },
   "outputs": [],
   "source": [
    "# Add your code here\n",
    "label = \n",
    "features = "
   ]
  },
  {
   "cell_type": "code",
   "execution_count": null,
   "metadata": {
    "id": "r6opJ4LOPygd"
   },
   "outputs": [],
   "source": [
    "# print cell\n",
    "print('check_x_y_split',([features.shape, label.describe()]))"
   ]
  },
  {
   "cell_type": "markdown",
   "metadata": {
    "id": "a9rwVcftQJwu"
   },
   "source": [
    "## 5.3 : Machine Learning using sklearn (15 pts)\n",
    "\n",
    "Scikit-learn (formerly scikits.learn and also known as sklearn) is a free software machine learning library for the Python programming language. It features various classification, regression and clustering algorithms including support vector machines, random forests, gradient boosting, k-means and DBSCAN, and is designed to interoperate with the Python numerical and scientific libraries NumPy and SciPy.\n",
    "\n",
    "You can find the documentation [here](https://scikit-learn.org/stable/modules/classes.html)\n",
    "\n",
    "Now we will train some machine learning models using sklearn to predict views, rather than predicting views directly we will predict views_log to avoid numerical instability issues"
   ]
  },
  {
   "cell_type": "markdown",
   "metadata": {
    "id": "5955JflOaxtP"
   },
   "source": [
    "### 5.3.1 : Split data into train and test (1 pt)\n",
    "\n",
    "Use sklearn's train_test_split library and split data into train and test sets, the split should be 80-20 meaning 80% for training and rest for testing.\n"
   ]
  },
  {
   "cell_type": "code",
   "execution_count": null,
   "metadata": {
    "id": "1b5bKkQkR9lT"
   },
   "outputs": [],
   "source": [
    "from sklearn.model_selection import train_test_split\n",
    "# Add your code here\n",
    "\n",
    "\n"
   ]
  },
  {
   "cell_type": "code",
   "execution_count": null,
   "metadata": {
    "id": "azYR-gZ1QKwK"
   },
   "outputs": [],
   "source": [
    "# print cell.\n",
    "print('check_data_split',[x_train.shape,x_test.shape,y_train.shape,y_test.shape])"
   ]
  },
  {
   "cell_type": "markdown",
   "metadata": {
    "id": "dbfiYK_8RGKI"
   },
   "source": [
    "### 5.3.2: Train Machine Learning Models."
   ]
  },
  {
   "cell_type": "markdown",
   "metadata": {
    "id": "7EPYfVVMRMDd"
   },
   "source": [
    "#### 5.3.2.1 Linear Regression (3 pts)\n",
    "\n",
    "In this step we will train a linear regression model using sklearn. Train using the training data and then make predictions of test, report the mean squared error obtained on both train and test sets."
   ]
  },
  {
   "cell_type": "code",
   "execution_count": null,
   "metadata": {
    "id": "A6wS3Rc_TZGT"
   },
   "outputs": [],
   "source": [
    "from sklearn.linear_model import LinearRegression\n",
    "from sklearn.metrics import mean_squared_error\n",
    "# Add your code here\n",
    "\n",
    "mse_test = \n",
    "\n",
    "\n",
    "\n"
   ]
  },
  {
   "cell_type": "code",
   "execution_count": null,
   "metadata": {
    "id": "YmSfKICYQLuh"
   },
   "outputs": [],
   "source": [
    "print('check_lr', (np.sqrt(mean_squared_error(y_test, y_pred))))"
   ]
  },
  {
   "cell_type": "markdown",
   "metadata": {
    "id": "jpu9aiyYbAUS"
   },
   "source": [
    "#### 5.3.2.2  Dimensionality reduction with PCA (6 pts)\n",
    "\n"
   ]
  },
  {
   "cell_type": "markdown",
   "metadata": {
    "id": "aTqcy4x-TXv9"
   },
   "source": [
    "##### Step 1: Fitting PCA and explained_variance_ratiio\n",
    "Use Principal component analysis to reduce number of dimensions of the dataset, as a first step fit a pca model on your train set and then plot the explained_variance_ratio against the number of components to decide the number of components you should keep. (3 pts)"
   ]
  },
  {
   "cell_type": "code",
   "execution_count": null,
   "metadata": {
    "id": "NjpuExM0Vx8s"
   },
   "outputs": [],
   "source": [
    "import numpy as np\n",
    "from sklearn.decomposition import PCA\n",
    "# Add your code here\n",
    "\n",
    "\n"
   ]
  },
  {
   "cell_type": "markdown",
   "metadata": {
    "id": "jPbEQwiRR2Ta"
   },
   "source": [
    "##### Step 2: Deciding number of components to keep\n",
    "Use the plot to decide the number of components to keep, choose a number that explains atleast 95% of variance in the dataset. Then fit and transform your pca on training set using the number of components you decided. (1 pts)\n",
    "\n",
    "**Remember that your pca should be trained on the training set (and transformed here) but only transformed on the test set.**"
   ]
  },
  {
   "cell_type": "code",
   "execution_count": null,
   "metadata": {
    "id": "5OfN7anNQNFy"
   },
   "outputs": [],
   "source": [
    "# Add your code here"
   ]
  },
  {
   "cell_type": "code",
   "execution_count": null,
   "metadata": {
    "id": "lPiFyPW2XmPr"
   },
   "outputs": [],
   "source": [
    "# Print cell.\n",
    "print('check_pca', (x_train[:50,:]))"
   ]
  },
  {
   "cell_type": "markdown",
   "metadata": {
    "id": "4sw_JKLLbMcc"
   },
   "source": [
    "### 5.3.2.3 Random Forest. (10 pts)\n",
    "\n"
   ]
  },
  {
   "cell_type": "markdown",
   "metadata": {
    "id": "UwTfPha2TUub"
   },
   "source": [
    "##### Step 1: Hyperparameter tuning. \n",
    "Use grid search and train a random forest model on the transformed train dataset. Take a look at the sklearn `RandomForestRegressor` documentation and tune the max_depth hyperparameter using grid search. We have already tested the number of estimators hyperparameter for you. Note this section may take a while to run depending on how large your grid is. \n",
    "\n",
    "(Hint: refer to the GridSearchCV documentation and do some reading on how the max_depth in a RF model affects the result - while theory may help guide a rough estimate of possible hyperparameters, we can cross validate values using tools like GridSearch.\n",
    "\n",
    "Our autograder has tiered points for this question depending on your final MSE value but is fairly generous; we are not requiring that you find the **most** optimal value for this hyperparameter but rather demonstrate understanding of grid search optimization. (4 pts)\n"
   ]
  },
  {
   "cell_type": "code",
   "execution_count": null,
   "metadata": {
    "id": "W08Wd5JKZWyz"
   },
   "outputs": [],
   "source": [
    "from sklearn.ensemble import RandomForestRegressor\n",
    "from sklearn.model_selection import GridSearchCV\n",
    "# Add your code here\n",
    "# Only tune the max depth of the trees in the RF hyperparameter.\n",
    "\n",
    "# depth = []\n",
    "# nEstimator = [140]\n"
   ]
  },
  {
   "cell_type": "markdown",
   "metadata": {
    "id": "cLnVsNVzS2Co"
   },
   "source": [
    "##### Step 2: Fitting RF\n",
    "Fit the random forest on the training data using the parameters you computed above. Then make predictions on the test set, report the root mean squared error for the test set. (3 pts)"
   ]
  },
  {
   "cell_type": "code",
   "execution_count": null,
   "metadata": {
    "id": "3avoNnIaZe3P"
   },
   "outputs": [],
   "source": [
    "# Add your code here\n",
    "# Set n_estimators = 140"
   ]
  },
  {
   "cell_type": "code",
   "execution_count": null,
   "metadata": {
    "id": "XYrdo2CgTThM"
   },
   "outputs": [],
   "source": [
    "# Print cell\n",
    "print('check_rf', (np.sqrt(mean_squared_error(y_test, y_pred))))"
   ]
  },
  {
   "cell_type": "markdown",
   "metadata": {
    "id": "-ywlOaie7wVF"
   },
   "source": [
    "## Almost halfway there :)\n",
    "\n",
    "Well done! Almost halfway there :)\n",
    "\n"
   ]
  },
  {
   "cell_type": "markdown",
   "metadata": {
    "id": "q_eSiS5ZbVjf"
   },
   "source": [
    "# Section 2 : Distributed Machine Learning with Spark (55 Points)\n",
    "\n",
    "Apache Spark ML is the machine learning library consisting of common learning algorithms and utilities, including classification, regression, clustering, collaborative filtering, dimensionality reduction, and underlying optimization primitives.\n",
    "\n",
    "Why Spark ML?\n",
    "\n",
    "Moving to the Big Data Era requires heavy iterative computations on very big datasets. Standard implementations of machine learning algorithms require very powerful machines to be able to run. Depending on high-end machines is not advantageous due to their high price and improper costs of scaling up. The idea of using distributed computing engines is to distribute the calculations to multiple low-end machines (commodity hardware) instead of a single high-end one. This definitely speeds up the learning phase and allows us to create better models.\n",
    "\n",
    "Read more about it with the python documentation [here](https://spark.apache.org/docs/latest/ml-guide.html)"
   ]
  },
  {
   "cell_type": "markdown",
   "metadata": {
    "id": "R4nyIijZhTXK"
   },
   "source": [
    "### Initializing Spark Connection - Boring setup stuff again\n"
   ]
  },
  {
   "cell_type": "code",
   "execution_count": null,
   "metadata": {
    "id": "G8RH4R771X6n"
   },
   "outputs": [],
   "source": [
    "!apt install libkrb5-dev\n",
    "!wget https://www-us.apache.org/dist/spark/spark-3.0.2/spark-3.0.2-bin-hadoop3.2.tgz\n",
    "!tar xf spark-3.0.2-bin-hadoop3.2.tgz\n",
    "!pip install findspark\n",
    "!pip install sparkmagic\n",
    "!pip install pyspark\n",
    "!pip install pyspark --user\n",
    "!pip install seaborn --user\n",
    "!pip install plotly --user\n",
    "!pip install imageio --user\n",
    "!pip install folium --user"
   ]
  },
  {
   "cell_type": "code",
   "execution_count": null,
   "metadata": {
    "id": "pNctzcXRkexY"
   },
   "outputs": [],
   "source": [
    "!apt update\n",
    "!apt install gcc python-dev libkrb5-dev"
   ]
  },
  {
   "cell_type": "code",
   "execution_count": null,
   "metadata": {
    "id": "PP28kxLekWG7"
   },
   "outputs": [],
   "source": [
    "from pyspark.sql import SparkSession\n",
    "from pyspark.sql.types import *\n",
    "import pyspark.sql.functions as F\n",
    "\n",
    "import os\n",
    "\n",
    "spark = SparkSession.builder.appName('CA-5').getOrCreate()\n"
   ]
  },
  {
   "cell_type": "code",
   "execution_count": null,
   "metadata": {
    "id": "7Gm6aXPq1Ulc"
   },
   "outputs": [],
   "source": [
    "%load_ext sparkmagic.magics"
   ]
  },
  {
   "cell_type": "code",
   "execution_count": null,
   "metadata": {
    "id": "NiGROEgu1gfN"
   },
   "outputs": [],
   "source": [
    "#graph section\n",
    "import networkx as nx\n",
    "# SQLite RDBMS\n",
    "import sqlite3\n",
    "# Parallel processing\n",
    "# import swifter\n",
    "import pandas as pd\n",
    "# NoSQL DB\n",
    "from pymongo import MongoClient\n",
    "from pymongo.errors import DuplicateKeyError, OperationFailure\n",
    "\n",
    "import os\n",
    "os.environ['SPARK_HOME'] = \"/content/spark-3.0.2-bin-hadoop3.2\"\n",
    "os.environ[\"JAVA_HOME\"] = \"/usr/lib/jvm/java-8-openjdk-amd64\"\n",
    "import pyspark\n",
    "from pyspark.sql import SQLContext"
   ]
  },
  {
   "cell_type": "code",
   "execution_count": null,
   "metadata": {
    "id": "bF0xipwC1hme"
   },
   "outputs": [],
   "source": [
    "try:\n",
    "    if(spark == None):\n",
    "        spark = SparkSession.builder.appName('Initial').getOrCreate()\n",
    "        sqlContext=SQLContext(spark)\n",
    "except NameError:\n",
    "    spark = SparkSession.builder.appName('Initial').getOrCreate()\n",
    "    sqlContext=SQLContext(spark)\n"
   ]
  },
  {
   "cell_type": "markdown",
   "metadata": {
    "id": "cbj7zOGQW7A2"
   },
   "source": [
    "### 5.1 Data Preparation for Spark ML (20 points)\n",
    "\n",
    "Once the spark setup ready. Next, we need the prepared data for our ML algorithms. We will use the same data you processed in Section 1 but now in spark. \n",
    "\n",
    "Read in the csv  into a spark dataframe. Set the \"inferSchema\" flag to True so that the columns are the correct datatypes and not all strings. Further, set the parameter to the first row as column headers."
   ]
  },
  {
   "cell_type": "code",
   "execution_count": null,
   "metadata": {
    "id": "EFfs7q3P1KHX"
   },
   "outputs": [],
   "source": [
    "# Add your code here\n",
    "\n",
    "train_sdf = "
   ]
  },
  {
   "cell_type": "markdown",
   "metadata": {
    "id": "CbC1qlzhXd6L"
   },
   "source": [
    "Let us make sure everything is smooth to proceed"
   ]
  },
  {
   "cell_type": "code",
   "execution_count": null,
   "metadata": {
    "id": "sTb1GN4-1EXc"
   },
   "outputs": [],
   "source": [
    "train_sdf.show()"
   ]
  },
  {
   "cell_type": "markdown",
   "metadata": {
    "id": "NFWmORJ8XhX_"
   },
   "source": [
    "Print out the dataframe schema and verify the datatypes"
   ]
  },
  {
   "cell_type": "code",
   "execution_count": null,
   "metadata": {
    "id": "22b4aWjueZuO"
   },
   "outputs": [],
   "source": [
    "#Task: Print the dataframe schema and verify\n",
    "# Add your code here\n"
   ]
  },
  {
   "cell_type": "markdown",
   "metadata": {
    "id": "fJ34pkSeXn3G"
   },
   "source": [
    "Now, we have the processed data in hand. Next for the Spark ML, we need to create a feature column that has all features concatenated and a single column for labels.\n",
    "\n",
    "You can use VectorAssembler() to create a feature vector from all categorical and numerical features. Let us call the call the final vector as “features”.\n",
    "\n",
    "Now, list all columns in the data and store it in a list named 'all_columns'\n"
   ]
  },
  {
   "cell_type": "code",
   "execution_count": null,
   "metadata": {
    "id": "HwWWc_0Ttyg4"
   },
   "outputs": [],
   "source": [
    "from pyspark.ml.feature import StringIndexer, VectorAssembler"
   ]
  },
  {
   "cell_type": "code",
   "execution_count": null,
   "metadata": {
    "id": "XIcLnx7bt7Q8"
   },
   "outputs": [],
   "source": [
    "# Add your code here\n",
    "all_columns = # Task"
   ]
  },
  {
   "cell_type": "markdown",
   "metadata": {
    "id": "BqiuAgWxh2yv"
   },
   "source": [
    "Now create a list of columns which you don't wan't to include in your features, i.e., the labels and probably other columns which are not useful for the machine learning model. Let us call this list drop_columns."
   ]
  },
  {
   "cell_type": "code",
   "execution_count": null,
   "metadata": {
    "id": "B-_2Tsy5uzIo"
   },
   "outputs": [],
   "source": [
    "# Add your code here\n",
    "drop_columns = # Task"
   ]
  },
  {
   "cell_type": "code",
   "execution_count": null,
   "metadata": {
    "id": "GWgiDQuciHKt"
   },
   "outputs": [],
   "source": [
    "columns_to_use = [i for i in all_columns if i not in drop_columns]"
   ]
  },
  {
   "cell_type": "markdown",
   "metadata": {
    "id": "V4kOg6TWiOcm"
   },
   "source": [
    "Now create a VectorAssembler object with columns you want to use for the ML models. Let us Name the output column as 'features'. These are the features that you will use later.  Let us name the vector assembler object 'assembler'"
   ]
  },
  {
   "cell_type": "code",
   "execution_count": null,
   "metadata": {
    "id": "cPl796SvpvoU"
   },
   "outputs": [],
   "source": [
    "# Add your code\n"
   ]
  },
  {
   "cell_type": "code",
   "execution_count": null,
   "metadata": {
    "id": "5LlUa9NRQMOT"
   },
   "outputs": [],
   "source": [
    "# Print assember stats\n",
    "print('stat_assembler', (str(assembler.params), columns_to_use))"
   ]
  },
  {
   "cell_type": "markdown",
   "metadata": {
    "id": "X7_HC7cTif1k"
   },
   "source": [
    "Now, we are ready to create a pipeline with different stages.  For out data so far, we just a single stage with the assember, however, you could have other stages  before that where you perform operations on the data, e.g, transforming categorical strings to numeric values or feature scaling operations.\n",
    "\n",
    "In this step, we will create a pipeline with a single stage - the assembler. Fit the pipeline to your data and create the transformed dataframe and name it 'modified_data_sdf'."
   ]
  },
  {
   "cell_type": "code",
   "execution_count": null,
   "metadata": {
    "id": "iuO1Mu9IvTEz"
   },
   "outputs": [],
   "source": [
    "from pyspark.ml import Pipeline\n",
    "\n",
    "# Add your code here\n"
   ]
  },
  {
   "cell_type": "code",
   "execution_count": null,
   "metadata": {
    "id": "KwlFEWKwXbRd"
   },
   "outputs": [],
   "source": [
    "#Print results\n",
    "pipeline_stat = pd.DataFrame(modified_data_sdf.take(5), columns=modified_data_sdf.columns)\n",
    "print('check_pipeline', (pipeline_stat.columns.values, pipeline_stat['features'][0].size))"
   ]
  },
  {
   "cell_type": "markdown",
   "metadata": {
    "id": "0TKEQEDkxFGf"
   },
   "source": [
    "Now that we have the required data in the right format, Let us create our train and test sets. Let us, split into an 80-20 ratio between the train and test sets. Name these 'train_sdf' and 'test_sdf'"
   ]
  },
  {
   "cell_type": "code",
   "execution_count": null,
   "metadata": {
    "id": "Jn4_0RHHxEYm"
   },
   "outputs": [],
   "source": [
    "# Add your code here\n"
   ]
  },
  {
   "cell_type": "code",
   "execution_count": null,
   "metadata": {
    "id": "TkvrG1lMbe9_"
   },
   "outputs": [],
   "source": [
    "#Print results here\n",
    "print('check_split', (train_sdf.count(), test_sdf.count()))"
   ]
  },
  {
   "cell_type": "markdown",
   "metadata": {
    "id": "L_CKE8i8an4x"
   },
   "source": [
    "### 5.2 Linear regression using Spark ML (15 points)\n",
    "\n",
    "In this section, train s linear regression model to our data and predict the views. This prediction should be based on \"Big\" data tools, i.e., Spark ML's linear regression. Create a model using this library, fit the training data. \n",
    "Afterwards, print the summary stats of the model, i.e, \n",
    "- the RMSE error, R2 score and any other information you find useful. Refere the Spark ML documentation online for the implementation.\n",
    "\n",
    "In this section, we will train the model without any regularization!"
   ]
  },
  {
   "cell_type": "code",
   "execution_count": null,
   "metadata": {
    "id": "W9qJdpIU4e8q"
   },
   "outputs": [],
   "source": [
    "from pyspark.ml.regression import LinearRegression\n",
    "\n",
    "# Add your code here\n",
    "\n",
    "lr_model = "
   ]
  },
  {
   "cell_type": "code",
   "execution_count": null,
   "metadata": {
    "id": "M_n_gx3I-Icl"
   },
   "outputs": [],
   "source": [
    "trainingSum = lr_model.summary\n",
    "\n",
    "print(\"RMSE: %f\" % trainingSum.rootMeanSquaredError)\n",
    "print(\"r2: %f\" % trainingSum.r2)\n",
    "\n"
   ]
  },
  {
   "cell_type": "markdown",
   "metadata": {
    "id": "kJT9Ov_irnXl"
   },
   "source": [
    "Let us investigate that if the model actually overfits the training data. \n",
    "\n",
    "Predict the views for your test data (Note: it is called 'transform' in spark ml). Evaluate the performance using 'RegressionEvaluator' in the Spark ML Regression library. Name prediction column as 'prediction'."
   ]
  },
  {
   "cell_type": "code",
   "execution_count": null,
   "metadata": {
    "id": "3sE9kv3ZsU7J"
   },
   "outputs": [],
   "source": [
    "# Add your code here\n",
    "predictions = "
   ]
  },
  {
   "cell_type": "code",
   "execution_count": null,
   "metadata": {
    "id": "TlqLeWSDsd__"
   },
   "outputs": [],
   "source": [
    "from pyspark.ml.evaluation import RegressionEvaluator\n",
    "\n",
    "# Task: Compute RMSr on the test set\n",
    "\n",
    "test_rmse_orig = "
   ]
  },
  {
   "cell_type": "code",
   "execution_count": null,
   "metadata": {
    "id": "DuBHq2n8dCxs"
   },
   "outputs": [],
   "source": [
    "#Print results here\n",
    "predictions_to_print = predictions.toPandas()\n",
    "lranswer = [test_rmse_orig, predictions_to_print['prediction'][0:50], predictions_to_print['label'][0:50]]\n",
    "print('result_lr_test', lranswer)"
   ]
  },
  {
   "cell_type": "markdown",
   "metadata": {
    "id": "pgEkOUYUsi5D"
   },
   "source": [
    "Next, we will implement regularization to avoid overfitting. you can try different  regularization parameters, e.g., try LASSO (L1), Ridge (L2) and elastic net (combination of L1 and L2).\n",
    "\n",
    "You can try different regularization hyperparameters to initialize three different regularized linear regression models. Compare these regularization methods with each other and the non-regularized method above.\n"
   ]
  },
  {
   "cell_type": "code",
   "execution_count": null,
   "metadata": {
    "id": "hhx5njucYKk2"
   },
   "outputs": [],
   "source": [
    "# Add your code here\n",
    "# Compute predictions using each of the models\n",
    "l1_predictions = \n",
    "l2_predictions = \n",
    "elastic_net_predictions = \n",
    "\n",
    "# Task: Calculate the root mean squared error (RMSE) on test set for each of your models\n",
    "\n",
    "test_rmse_l1 = \n",
    "test_rmse_l2 = \n",
    "test_rmse_elastic = \n"
   ]
  },
  {
   "cell_type": "code",
   "execution_count": null,
   "metadata": {
    "id": "q0-fqj8MgY2S"
   },
   "outputs": [],
   "source": [
    "# Print your results here\n",
    "result = [test_rmse_l1, test_rmse_l2, test_rmse_elastic]\n",
    "print('result_lr_all', result)"
   ]
  },
  {
   "cell_type": "markdown",
   "metadata": {
    "id": "O6ntJ6xFbbmn"
   },
   "source": [
    "### 5.3 Random Forest Regression 10 pts)\n",
    "\n",
    "You need an understanding of random forest and its variations,i.e., boosted trees to succeed as a data scientist. These are ensemble methods that are know for generalization and are considered popular for classification and regression problems. Similar to linear regresssion, create a random forest regressor model. After it, train the model using the data and then evaluate its performance using the test data. Finally, compare performance of random forest model with the linear regression model.\n",
    "\n"
   ]
  },
  {
   "cell_type": "code",
   "execution_count": null,
   "metadata": {
    "id": "8pjjP9GWuoml"
   },
   "outputs": [],
   "source": [
    "from pyspark.ml.regression import RandomForestRegressor\n",
    "# Add your code here\n",
    "rf_model = #Task\n"
   ]
  },
  {
   "cell_type": "code",
   "execution_count": null,
   "metadata": {
    "id": "ruaaYA2jBlRK"
   },
   "outputs": [],
   "source": [
    "# Add code here to calculate predictions\n",
    "predictions = #Task : Calculate predictions on the test set"
   ]
  },
  {
   "cell_type": "code",
   "execution_count": null,
   "metadata": {
    "id": "QyyZfbd6Brqs"
   },
   "outputs": [],
   "source": [
    "from pyspark.ml.evaluation import RegressionEvaluator\n",
    "\n",
    "# Add your code here to instatiate a regressionevaluator \n",
    "\n",
    "train_rmse_rf = #Task: Compute the training RMSE\n",
    "rmse_rf = #Task: Compute RMSE using the test set"
   ]
  },
  {
   "cell_type": "code",
   "execution_count": null,
   "metadata": {
    "id": "fR09u5GFjvtb"
   },
   "outputs": [],
   "source": [
    "#Print results of predictions here\n",
    "predictions_to_reveal = predictions.toPandas()\n",
    "answer = [train_rmse_rf, predictions_to_reveal['prediction'][0:50], predictions_to_reveal['label'][0:50], rmse_rf]\n",
    "print('check_rf_spark', answer)"
   ]
  },
  {
   "cell_type": "markdown",
   "metadata": {
    "id": "SH9cxYzla-lf"
   },
   "source": [
    "### 5.4 Dimensionality Reduction using Principal Component Analysis (10pt)\n",
    "\n",
    "The focus of this section is to utilize PCA to further reduce the dimensions of data, i.e., a lower dimensional space. After PCA perform linear regression on the new data. You can select a suitable value for the number of dimensions as calculated in previous section.\n",
    "\n",
    "The steps are illustrated below:\n",
    "1.   Initialization of PCA model\n",
    "2.   Fit the PCA model using the training data\n",
    "3.   Extract the PCA feature from the trained PCA model from step 2\n",
    "4.   Train a linear regression model using the retreived PCA features\n",
    "5.   Evaluate the trained model 's performance on the test set \n",
    "\n",
    "This section requires extra effort and therefore has less starter code. Spen time to understand and implement considering yourself a data scientist working on an assigned task.\n",
    "\n",
    "\n",
    "\n",
    "\n"
   ]
  },
  {
   "cell_type": "code",
   "execution_count": null,
   "metadata": {
    "id": "KXgSxHvgzJaS"
   },
   "outputs": [],
   "source": [
    "# Add your code for the PCA model and training here\n",
    "\n",
    "pca_of_model = \n",
    "\n",
    "train_rmse_pca_model = "
   ]
  },
  {
   "cell_type": "code",
   "execution_count": null,
   "metadata": {
    "id": "TBnyAXQwl9Nt"
   },
   "outputs": [],
   "source": [
    "# Add your code here\n",
    "predictions = #Task: Retreive predictions on the test set\n",
    "\n",
    "test_rmse_pca_model = #Task: Retreive RMSE for test data"
   ]
  },
  {
   "cell_type": "code",
   "execution_count": null,
   "metadata": {
    "id": "nNdWfggtmEmx"
   },
   "outputs": [],
   "source": [
    "# Add your code here\n",
    "predictions_to_grade = predictions.toPandas()\n",
    "answer = [training_rmse_pca, predictions_to_grade['prediction'][0:50], predictions_to_grade['label'][0:50], test_rmse_pca]\n",
    "print('check_pca_spark', answer)"
   ]
  },
  {
   "cell_type": "markdown",
   "metadata": {
    "id": "TyQ6tm6iYg_m"
   },
   "source": [
    "# Submission\n",
    "\n",
    "**Submission on the blackboard**. \n",
    "** PDF submission for the simalarity check and .ipynb for original submission **\n",
    "\n",
    "Go to the \"File\" tab at the top left, and click \"Download .ipynb\". Submit under 'scalableMachinelearning.ipynb'.\n",
    "\n",
    "You must submit your notebook to blackboard for the grading."
   ]
  }
 ],
 "metadata": {
  "colab": {
   "collapsed_sections": [],
   "name": "CA_5_Scalable_Distributed_Machine_Learning_Spark_sklearn.ipynb",
   "provenance": []
  },
  "kernelspec": {
   "display_name": "Python 3",
   "language": "python",
   "name": "python3"
  },
  "language_info": {
   "codemirror_mode": {
    "name": "ipython",
    "version": 3
   },
   "file_extension": ".py",
   "mimetype": "text/x-python",
   "name": "python",
   "nbconvert_exporter": "python",
   "pygments_lexer": "ipython3",
   "version": "3.8.5"
  }
 },
 "nbformat": 4,
 "nbformat_minor": 1
}
